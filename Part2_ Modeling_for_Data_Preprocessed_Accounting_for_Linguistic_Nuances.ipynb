{
 "cells": [
  {
   "cell_type": "code",
   "execution_count": 2,
   "metadata": {},
   "outputs": [],
   "source": [
    "#importing the packages\n",
    "import pandas as pd\n",
    "import json\n",
    "import matplotlib.pyplot as plt\n",
    "import warnings\n",
    "warnings.filterwarnings('ignore')\n",
    "import spacy\n",
    "from collections import Counter\n",
    "#import en_core_web_sm\\\n",
    "import re\n",
    "import numpy as np\n",
    "from sklearn.linear_model import LogisticRegression\n",
    "from sklearn.feature_extraction.text import TfidfVectorizer\n",
    "from sklearn.model_selection import StratifiedKFold\n",
    "from sklearn.metrics import precision_score, recall_score, f1_score\n",
    "from sklearn.multiclass import OneVsRestClassifier\n",
    "from sklearn.svm import SVC\n",
    "import time\n",
    "from sklearn.multiclass import OneVsRestClassifier\n",
    "from sklearn.svm import SVC\n",
    "from sklearn import svm\n",
    "from sklearn.ensemble import RandomForestClassifier\n",
    "from textblob import TextBlob\n",
    "from sklearn.multiclass import OneVsRestClassifier\n",
    "from sklearn.svm import SVC\n",
    "import langdetect\n",
    "from langdetect import detect\n",
    "import detectlanguage\n",
    "from google_trans_new import google_translator  \n",
    "import langid\n",
    "import googletrans"
   ]
  },
  {
   "cell_type": "code",
   "execution_count": 22,
   "metadata": {},
   "outputs": [],
   "source": [
    "#loading full sample of the formal text data\n",
    "full_formal=pd.read_excel(\"full_formal.xlsx\")"
   ]
  },
  {
   "cell_type": "code",
   "execution_count": 24,
   "metadata": {},
   "outputs": [
    {
     "data": {
      "text/html": [
       "<div>\n",
       "<style scoped>\n",
       "    .dataframe tbody tr th:only-of-type {\n",
       "        vertical-align: middle;\n",
       "    }\n",
       "\n",
       "    .dataframe tbody tr th {\n",
       "        vertical-align: top;\n",
       "    }\n",
       "\n",
       "    .dataframe thead th {\n",
       "        text-align: right;\n",
       "    }\n",
       "</style>\n",
       "<table border=\"1\" class=\"dataframe\">\n",
       "  <thead>\n",
       "    <tr style=\"text-align: right;\">\n",
       "      <th></th>\n",
       "      <th>Unnamed: 0</th>\n",
       "      <th>0</th>\n",
       "      <th>l</th>\n",
       "    </tr>\n",
       "  </thead>\n",
       "  <tbody>\n",
       "    <tr>\n",
       "      <th>0</th>\n",
       "      <td>0</td>\n",
       "      <td>Reprise de la session</td>\n",
       "      <td>fr</td>\n",
       "    </tr>\n",
       "    <tr>\n",
       "      <th>1</th>\n",
       "      <td>1</td>\n",
       "      <td>Je déclare reprise la session du Parlement eur...</td>\n",
       "      <td>fr</td>\n",
       "    </tr>\n",
       "    <tr>\n",
       "      <th>2</th>\n",
       "      <td>2</td>\n",
       "      <td>Comme vous avez pu le constater, le grand \"bog...</td>\n",
       "      <td>fr</td>\n",
       "    </tr>\n",
       "    <tr>\n",
       "      <th>3</th>\n",
       "      <td>3</td>\n",
       "      <td>Vous avez souhaité un débat à ce sujet dans le...</td>\n",
       "      <td>fr</td>\n",
       "    </tr>\n",
       "    <tr>\n",
       "      <th>4</th>\n",
       "      <td>4</td>\n",
       "      <td>En attendant, je souhaiterais, comme un certai...</td>\n",
       "      <td>fr</td>\n",
       "    </tr>\n",
       "  </tbody>\n",
       "</table>\n",
       "</div>"
      ],
      "text/plain": [
       "   Unnamed: 0                                                  0   l\n",
       "0           0                              Reprise de la session  fr\n",
       "1           1  Je déclare reprise la session du Parlement eur...  fr\n",
       "2           2  Comme vous avez pu le constater, le grand \"bog...  fr\n",
       "3           3  Vous avez souhaité un débat à ce sujet dans le...  fr\n",
       "4           4  En attendant, je souhaiterais, comme un certai...  fr"
      ]
     },
     "execution_count": 24,
     "metadata": {},
     "output_type": "execute_result"
    }
   ],
   "source": [
    "#showing the first few observations\n",
    "full_formal.head()"
   ]
  },
  {
   "cell_type": "code",
   "execution_count": 25,
   "metadata": {},
   "outputs": [],
   "source": [
    "#renaming the columns\n",
    "full_formal.rename(\n",
    "    columns=({ 0: 'txt', 'l': 'lang'}), \n",
    "    inplace=True,\n",
    ")"
   ]
  },
  {
   "cell_type": "code",
   "execution_count": 8,
   "metadata": {},
   "outputs": [
    {
     "data": {
      "text/html": [
       "<div>\n",
       "<style scoped>\n",
       "    .dataframe tbody tr th:only-of-type {\n",
       "        vertical-align: middle;\n",
       "    }\n",
       "\n",
       "    .dataframe tbody tr th {\n",
       "        vertical-align: top;\n",
       "    }\n",
       "\n",
       "    .dataframe thead th {\n",
       "        text-align: right;\n",
       "    }\n",
       "</style>\n",
       "<table border=\"1\" class=\"dataframe\">\n",
       "  <thead>\n",
       "    <tr style=\"text-align: right;\">\n",
       "      <th></th>\n",
       "      <th>Unnamed: 0</th>\n",
       "      <th>txt</th>\n",
       "      <th>lang</th>\n",
       "    </tr>\n",
       "  </thead>\n",
       "  <tbody>\n",
       "    <tr>\n",
       "      <th>0</th>\n",
       "      <td>0</td>\n",
       "      <td>Reprise de la</td>\n",
       "      <td>fr</td>\n",
       "    </tr>\n",
       "    <tr>\n",
       "      <th>1</th>\n",
       "      <td>1</td>\n",
       "      <td>Je déclare reprise</td>\n",
       "      <td>fr</td>\n",
       "    </tr>\n",
       "    <tr>\n",
       "      <th>2</th>\n",
       "      <td>2</td>\n",
       "      <td>Comme vous avez</td>\n",
       "      <td>fr</td>\n",
       "    </tr>\n",
       "    <tr>\n",
       "      <th>3</th>\n",
       "      <td>3</td>\n",
       "      <td>Vous avez souhaité</td>\n",
       "      <td>fr</td>\n",
       "    </tr>\n",
       "    <tr>\n",
       "      <th>4</th>\n",
       "      <td>4</td>\n",
       "      <td>En attendant, je</td>\n",
       "      <td>fr</td>\n",
       "    </tr>\n",
       "  </tbody>\n",
       "</table>\n",
       "</div>"
      ],
      "text/plain": [
       "   Unnamed: 0                 txt lang\n",
       "0           0       Reprise de la   fr\n",
       "1           1  Je déclare reprise   fr\n",
       "2           2     Comme vous avez   fr\n",
       "3           3  Vous avez souhaité   fr\n",
       "4           4    En attendant, je   fr"
      ]
     },
     "execution_count": 8,
     "metadata": {},
     "output_type": "execute_result"
    }
   ],
   "source": [
    "#loading short sample of formal data and renaming it\n",
    "formal=pd.read_excel('formal_3.xlsx')\n",
    "formal.rename(\n",
    "    columns=({ 0: 'txt', 'l': 'lang'}), \n",
    "    inplace=True,\n",
    ")\n",
    "formal.head()"
   ]
  },
  {
   "cell_type": "code",
   "execution_count": 5,
   "metadata": {},
   "outputs": [],
   "source": [
    "#loading the short sample of the data\n",
    "short=pd.read_excel('short.xlsx')"
   ]
  },
  {
   "cell_type": "code",
   "execution_count": 6,
   "metadata": {},
   "outputs": [
    {
     "data": {
      "text/html": [
       "<div>\n",
       "<style scoped>\n",
       "    .dataframe tbody tr th:only-of-type {\n",
       "        vertical-align: middle;\n",
       "    }\n",
       "\n",
       "    .dataframe tbody tr th {\n",
       "        vertical-align: top;\n",
       "    }\n",
       "\n",
       "    .dataframe thead th {\n",
       "        text-align: right;\n",
       "    }\n",
       "</style>\n",
       "<table border=\"1\" class=\"dataframe\">\n",
       "  <thead>\n",
       "    <tr style=\"text-align: right;\">\n",
       "      <th></th>\n",
       "      <th>Unnamed: 0</th>\n",
       "      <th>review_id</th>\n",
       "      <th>product_id</th>\n",
       "      <th>reviewer_id</th>\n",
       "      <th>stars</th>\n",
       "      <th>review_body</th>\n",
       "      <th>review_title</th>\n",
       "      <th>language</th>\n",
       "      <th>product_category</th>\n",
       "    </tr>\n",
       "  </thead>\n",
       "  <tbody>\n",
       "    <tr>\n",
       "      <th>0</th>\n",
       "      <td>0</td>\n",
       "      <td>fr_0424335</td>\n",
       "      <td>product_fr_0297678</td>\n",
       "      <td>reviewer_fr_0961886</td>\n",
       "      <td>1</td>\n",
       "      <td>A déconseiller -</td>\n",
       "      <td>Brumisateur à pompe</td>\n",
       "      <td>fr</td>\n",
       "      <td>beauty</td>\n",
       "    </tr>\n",
       "    <tr>\n",
       "      <th>1</th>\n",
       "      <td>1</td>\n",
       "      <td>fr_0452615</td>\n",
       "      <td>product_fr_0613288</td>\n",
       "      <td>reviewer_fr_0857499</td>\n",
       "      <td>1</td>\n",
       "      <td>Si vous voulez</td>\n",
       "      <td>Insatisfaisant</td>\n",
       "      <td>fr</td>\n",
       "      <td>baby_product</td>\n",
       "    </tr>\n",
       "    <tr>\n",
       "      <th>2</th>\n",
       "      <td>2</td>\n",
       "      <td>fr_0407673</td>\n",
       "      <td>product_fr_0571250</td>\n",
       "      <td>reviewer_fr_0383240</td>\n",
       "      <td>1</td>\n",
       "      <td>Écran de mauvaise</td>\n",
       "      <td>Ne recommande pas</td>\n",
       "      <td>fr</td>\n",
       "      <td>pc</td>\n",
       "    </tr>\n",
       "    <tr>\n",
       "      <th>3</th>\n",
       "      <td>3</td>\n",
       "      <td>fr_0579191</td>\n",
       "      <td>product_fr_0030168</td>\n",
       "      <td>reviewer_fr_0729693</td>\n",
       "      <td>1</td>\n",
       "      <td>Cet engin ne</td>\n",
       "      <td>A éviter!</td>\n",
       "      <td>fr</td>\n",
       "      <td>musical_instruments</td>\n",
       "    </tr>\n",
       "    <tr>\n",
       "      <th>4</th>\n",
       "      <td>4</td>\n",
       "      <td>fr_0931533</td>\n",
       "      <td>product_fr_0468261</td>\n",
       "      <td>reviewer_fr_0734066</td>\n",
       "      <td>1</td>\n",
       "      <td>Très beau produit</td>\n",
       "      <td>Déçue</td>\n",
       "      <td>fr</td>\n",
       "      <td>toy</td>\n",
       "    </tr>\n",
       "  </tbody>\n",
       "</table>\n",
       "</div>"
      ],
      "text/plain": [
       "   Unnamed: 0   review_id          product_id          reviewer_id  stars  \\\n",
       "0           0  fr_0424335  product_fr_0297678  reviewer_fr_0961886      1   \n",
       "1           1  fr_0452615  product_fr_0613288  reviewer_fr_0857499      1   \n",
       "2           2  fr_0407673  product_fr_0571250  reviewer_fr_0383240      1   \n",
       "3           3  fr_0579191  product_fr_0030168  reviewer_fr_0729693      1   \n",
       "4           4  fr_0931533  product_fr_0468261  reviewer_fr_0734066      1   \n",
       "\n",
       "         review_body         review_title language     product_category  \n",
       "0   A déconseiller -  Brumisateur à pompe       fr               beauty  \n",
       "1     Si vous voulez       Insatisfaisant       fr         baby_product  \n",
       "2  Écran de mauvaise    Ne recommande pas       fr                   pc  \n",
       "3       Cet engin ne            A éviter!       fr  musical_instruments  \n",
       "4  Très beau produit                Déçue       fr                  toy  "
      ]
     },
     "execution_count": 6,
     "metadata": {},
     "output_type": "execute_result"
    }
   ],
   "source": [
    "short['review_body']=short['review_body'].apply(lambda item: ' '.join(item.split()[:3]))\n",
    "short.head()"
   ]
  },
  {
   "cell_type": "code",
   "execution_count": 2,
   "metadata": {},
   "outputs": [],
   "source": [
    "#loading the preprocessed and claen data\n",
    "common_df=pd.read_excel('common_df_clean.xlsx')"
   ]
  },
  {
   "cell_type": "code",
   "execution_count": 3,
   "metadata": {},
   "outputs": [],
   "source": [
    "#resetting the index of the data frame\n",
    "common_df.reset_index(drop=True, inplace=True)"
   ]
  },
  {
   "cell_type": "code",
   "execution_count": 6,
   "metadata": {},
   "outputs": [],
   "source": [
    "#customized vectorizer for 10,000 features\n",
    "from sklearn.pipeline import Pipeline\n",
    "tvec = TfidfVectorizer(stop_words=None,token_pattern='(?u)\\\\b\\\\w\\\\w*\\\\b|„|¿|¡', max_features=10000, ngram_range=(1, 3))"
   ]
  },
  {
   "cell_type": "code",
   "execution_count": 4,
   "metadata": {},
   "outputs": [],
   "source": [
    "#creating logistic regression pipeline with 10,000 of features\n",
    "from sklearn.pipeline import Pipeline\n",
    "lr = LogisticRegression()\n",
    "original_pipeline = Pipeline([\n",
    "    ('vectorizer', tvec),\n",
    "    ('classifier', lr)\n",
    "])\n"
   ]
  },
  {
   "cell_type": "code",
   "execution_count": 5,
   "metadata": {},
   "outputs": [],
   "source": [
    "#creating the function to print out the results of the modeling and predictions\n",
    "def lr_cv(splits, X, Y, pipeline, average_method, testing):\n",
    "    \n",
    "    kfold = StratifiedKFold(n_splits=splits, shuffle=True, random_state=777)\n",
    "    accuracy = []\n",
    "    precision = []\n",
    "    recall = []\n",
    "    f1 = []\n",
    "    for train, test in kfold.split(X, Y):\n",
    "        lr_fit = pipeline.fit(X[train], Y[train])\n",
    "        prediction = lr_fit.predict(X[test])\n",
    "        scores = lr_fit.score(X[test],Y[test])\n",
    "        model_result=lr_fit.predict(testing)\n",
    "        accuracy.append(scores * 100)\n",
    "        precision.append(precision_score(Y[test], prediction, average=average_method)*100)\n",
    "        print('              de          en          es       fr')\n",
    "        print('precision:',precision_score(Y[test], prediction, average=None))\n",
    "        recall.append(recall_score(Y[test], prediction, average=average_method)*100)\n",
    "        print('recall:   ',recall_score(Y[test], prediction, average=None))\n",
    "        f1.append(f1_score(Y[test], prediction, average=average_method)*100)\n",
    "        print('f1 score: ',f1_score(Y[test], prediction, average=None))\n",
    "        print('-'*56)\n",
    "\n",
    "    print(\"accuracy: %.3f%% (+/- %.2f%%)\" % (np.mean(accuracy), np.std(accuracy)))\n",
    "    print(\"precision: %.3f%% (+/- %.2f%%)\" % (np.mean(precision), np.std(precision)))\n",
    "    print(\"recall: %.3f%% (+/- %.2f%%)\" % (np.mean(recall), np.std(recall)))\n",
    "    print(\"f1 score: %.3f%% (+/- %.2f%%)\" % (np.mean(f1), np.std(f1)))\n",
    "    return(model_result)"
   ]
  },
  {
   "cell_type": "code",
   "execution_count": 8,
   "metadata": {},
   "outputs": [
    {
     "name": "stdout",
     "output_type": "stream",
     "text": [
      "              de          en          es       fr\n",
      "precision: [0.99995118 0.99978047 0.9987331  0.99985358]\n",
      "recall:    [0.99921944 0.99978047 0.99992682 0.99939018]\n",
      "f1 score:  [0.99958517 0.99978047 0.9993296  0.99962183]\n",
      "--------------------------------------------------------\n",
      "              de          en          es       fr\n",
      "precision: [0.99995118 0.99970732 0.99865997 0.99987797]\n",
      "recall:    [0.99919504 0.99980486 0.99982925 0.99936579]\n",
      "f1 score:  [0.99957297 0.99975609 0.99924427 0.99962182]\n",
      "--------------------------------------------------------\n",
      "              de          en          es       fr\n",
      "precision: [0.99992677 0.99970735 0.99900083 0.99987799]\n",
      "recall:    [0.99917065 0.99990243 0.99992682 0.99951215]\n",
      "f1 score:  [0.99954857 0.99980488 0.99946361 0.99969504]\n",
      "--------------------------------------------------------\n",
      "              de          en          es       fr\n",
      "precision: [0.99997559 0.99980487 0.99892788 0.99995119]\n",
      "recall:    [0.99939018 0.99985364 1.         0.99941456]\n",
      "f1 score:  [0.9996828  0.99982926 0.99946365 0.9996828 ]\n",
      "--------------------------------------------------------\n",
      "              de          en          es       fr\n",
      "precision: [0.99992677 0.99987803 0.99880616 0.99990239]\n",
      "recall:    [0.99917065 0.99985364 0.99997561 0.99951214]\n",
      "f1 score:  [0.99954857 0.99986584 0.99939054 0.99970722]\n",
      "--------------------------------------------------------\n",
      "accuracy: 99.961% (+/- 0.00%)\n",
      "precision: 99.961% (+/- 0.00%)\n",
      "recall: 99.961% (+/- 0.00%)\n",
      "f1 score: 99.961% (+/- 0.00%)\n",
      "Wall time: 14min 6s\n"
     ]
    },
    {
     "data": {
      "text/plain": [
       "array(['es', 'fr', 'fr', 'fr', 'fr', 'fr', 'fr', 'fr', 'fr', 'fr', 'fr',\n",
       "       'fr', 'fr', 'fr', 'fr', 'fr', 'fr', 'fr', 'fr', 'fr', 'es', 'es',\n",
       "       'es', 'es', 'es', 'es', 'es', 'es', 'es', 'es', 'es', 'es', 'es',\n",
       "       'es', 'es', 'es', 'es', 'es', 'es', 'es', 'de', 'de', 'de', 'de',\n",
       "       'de', 'de', 'de', 'de', 'de', 'de', 'de', 'de', 'de', 'de', 'de',\n",
       "       'de', 'de', 'de', 'de', 'de', 'en', 'en', 'en', 'en', 'en', 'en',\n",
       "       'en', 'en', 'en', 'en', 'en', 'en', 'en', 'en', 'en', 'en', 'en',\n",
       "       'en', 'en', 'en'], dtype=object)"
      ]
     },
     "execution_count": 8,
     "metadata": {},
     "output_type": "execute_result"
    }
   ],
   "source": [
    "%%time\n",
    "#checking the performance of the logistic regression model and testing it on a short sample\n",
    "lr_cv(5, common_df.new, common_df.language, original_pipeline,'macro', short.review_body)"
   ]
  },
  {
   "cell_type": "code",
   "execution_count": 7,
   "metadata": {},
   "outputs": [],
   "source": [
    "#pipeline for Multinomial Naive Bayes\n",
    "from sklearn.naive_bayes import MultinomialNB\n",
    "clf = MultinomialNB()\n",
    "bayes_pipeline = Pipeline([\n",
    "    ('vectorizer', tvec),\n",
    "    ('classifier', clf)\n",
    "])"
   ]
  },
  {
   "cell_type": "code",
   "execution_count": 10,
   "metadata": {},
   "outputs": [
    {
     "name": "stdout",
     "output_type": "stream",
     "text": [
      "              de          en          es       fr\n",
      "precision: [0.99897636 0.99970735 0.99997559 0.99992678]\n",
      "recall:    [0.99980486 0.99990243 0.99946336 0.99941458]\n",
      "f1 score:  [0.99939044 0.99980488 0.99971941 0.99967062]\n",
      "--------------------------------------------------------\n",
      "              de          en          es       fr\n",
      "precision: [0.99870861 0.99980487 0.99997559 0.99992678]\n",
      "recall:    [0.99980486 0.99985364 0.9993414  0.99941458]\n",
      "f1 score:  [0.99925643 0.99982926 0.99965839 0.99967062]\n",
      "--------------------------------------------------------\n",
      "              de          en          es       fr\n",
      "precision: [0.99878156 0.99973173 1.         0.99990239]\n",
      "recall:    [0.99975607 0.99990243 0.99924383 0.99951215]\n",
      "f1 score:  [0.99926858 0.99981707 0.99962177 0.99970723]\n",
      "--------------------------------------------------------\n",
      "              de          en          es       fr\n",
      "precision: [0.99887914 0.99990242 1.         0.99990238]\n",
      "recall:    [0.99995121 0.99985364 0.99941458 0.99946335]\n",
      "f1 score:  [0.99941489 0.99987803 0.9997072  0.99968282]\n",
      "--------------------------------------------------------\n",
      "              de          en          es       fr\n",
      "precision: [0.99895201 0.99982927 0.99992678 0.99992679]\n",
      "recall:    [0.99980486 0.99992682 0.9993414  0.99956092]\n",
      "f1 score:  [0.99937825 0.99987804 0.999634   0.99974382]\n",
      "--------------------------------------------------------\n",
      "accuracy: 99.964% (+/- 0.00%)\n",
      "precision: 99.964% (+/- 0.00%)\n",
      "recall: 99.964% (+/- 0.00%)\n",
      "f1 score: 99.964% (+/- 0.00%)\n",
      "Wall time: 10min 39s\n"
     ]
    },
    {
     "data": {
      "text/plain": [
       "array(['de', 'fr', 'fr', 'fr', 'fr', 'fr', 'fr', 'fr', 'fr', 'fr', 'fr',\n",
       "       'fr', 'fr', 'fr', 'fr', 'fr', 'fr', 'fr', 'fr', 'fr', 'es', 'es',\n",
       "       'es', 'de', 'es', 'es', 'es', 'es', 'es', 'es', 'es', 'es', 'es',\n",
       "       'es', 'es', 'es', 'es', 'es', 'es', 'de', 'de', 'de', 'de', 'de',\n",
       "       'de', 'de', 'de', 'de', 'de', 'de', 'de', 'de', 'de', 'de', 'de',\n",
       "       'de', 'de', 'de', 'de', 'de', 'en', 'en', 'en', 'en', 'en', 'en',\n",
       "       'en', 'en', 'en', 'en', 'en', 'en', 'en', 'en', 'en', 'en', 'en',\n",
       "       'en', 'en', 'en'], dtype='<U2')"
      ]
     },
     "execution_count": 10,
     "metadata": {},
     "output_type": "execute_result"
    }
   ],
   "source": [
    "%%time\n",
    "#checking the results and predictions of Multinomial Naive Bayes for the short text\n",
    "lr_cv(5, common_df.new, common_df.language, bayes_pipeline,'macro',short.review_body)"
   ]
  },
  {
   "cell_type": "code",
   "execution_count": 9,
   "metadata": {},
   "outputs": [
    {
     "name": "stdout",
     "output_type": "stream",
     "text": [
      "              de          en          es       fr\n",
      "precision: [0.99897636 0.99970735 0.99997559 0.99992678]\n",
      "recall:    [0.99980486 0.99990243 0.99946336 0.99941458]\n",
      "f1 score:  [0.99939044 0.99980488 0.99971941 0.99967062]\n",
      "--------------------------------------------------------\n",
      "              de          en          es       fr\n",
      "precision: [0.99870861 0.99980487 0.99997559 0.99992678]\n",
      "recall:    [0.99980486 0.99985364 0.9993414  0.99941458]\n",
      "f1 score:  [0.99925643 0.99982926 0.99965839 0.99967062]\n",
      "--------------------------------------------------------\n",
      "              de          en          es       fr\n",
      "precision: [0.99878156 0.99973173 1.         0.99990239]\n",
      "recall:    [0.99975607 0.99990243 0.99924383 0.99951215]\n",
      "f1 score:  [0.99926858 0.99981707 0.99962177 0.99970723]\n",
      "--------------------------------------------------------\n",
      "              de          en          es       fr\n",
      "precision: [0.99887914 0.99990242 1.         0.99990238]\n",
      "recall:    [0.99995121 0.99985364 0.99941458 0.99946335]\n",
      "f1 score:  [0.99941489 0.99987803 0.9997072  0.99968282]\n",
      "--------------------------------------------------------\n",
      "              de          en          es       fr\n",
      "precision: [0.99895201 0.99982927 0.99992678 0.99992679]\n",
      "recall:    [0.99980486 0.99992682 0.9993414  0.99956092]\n",
      "f1 score:  [0.99937825 0.99987804 0.999634   0.99974382]\n",
      "--------------------------------------------------------\n",
      "accuracy: 99.964% (+/- 0.00%)\n",
      "precision: 99.964% (+/- 0.00%)\n",
      "recall: 99.964% (+/- 0.00%)\n",
      "f1 score: 99.964% (+/- 0.00%)\n",
      "Wall time: 13min 47s\n"
     ]
    },
    {
     "data": {
      "text/plain": [
       "array(['de', 'fr', 'fr', 'fr', 'fr', 'fr', 'de', 'de', 'fr', 'fr', 'fr',\n",
       "       'fr', 'fr', 'de', 'fr', 'fr', 'de', 'fr', 'fr', 'fr', 'de', 'es',\n",
       "       'es', 'es', 'es', 'es', 'es', 'es', 'es', 'es', 'es', 'es', 'de',\n",
       "       'es', 'es', 'es', 'es', 'es', 'es', 'es', 'de', 'de', 'de', 'de',\n",
       "       'de', 'de', 'de', 'de', 'de', 'de', 'de', 'de', 'de', 'de', 'de',\n",
       "       'de', 'de', 'de', 'de', 'de', 'en', 'en', 'en', 'en', 'en', 'en',\n",
       "       'en', 'de', 'en', 'en', 'en', 'en', 'en', 'de', 'en', 'en', 'en',\n",
       "       'en', 'en', 'en'], dtype='<U2')"
      ]
     },
     "execution_count": 9,
     "metadata": {},
     "output_type": "execute_result"
    }
   ],
   "source": [
    "%%time\n",
    "#checking the results and predictions of Multinomial Naive Bayes for the formal text\n",
    "lr_cv(5, common_df.new, common_df.language, bayes_pipeline,'macro',formal.txt)"
   ]
  },
  {
   "cell_type": "markdown",
   "metadata": {},
   "source": [
    "100,000 FEATURES"
   ]
  },
  {
   "cell_type": "code",
   "execution_count": 10,
   "metadata": {},
   "outputs": [],
   "source": [
    "#custom vectorizer for 100,000 features\n",
    "tvec_up = TfidfVectorizer(stop_words=None,token_pattern='(?u)\\\\b\\\\w\\\\w*\\\\b|„|¿|¡', max_features=100000, ngram_range=(1, 3))"
   ]
  },
  {
   "cell_type": "code",
   "execution_count": 11,
   "metadata": {},
   "outputs": [],
   "source": [
    "#pipeline for Multinomial Naive Bayes with 100,000 features\n",
    "clf = MultinomialNB()\n",
    "bayes_pipeline_up = Pipeline([\n",
    "    ('vectorizer', tvec_up),\n",
    "    ('classifier', clf)\n",
    "])"
   ]
  },
  {
   "cell_type": "code",
   "execution_count": 26,
   "metadata": {},
   "outputs": [
    {
     "name": "stdout",
     "output_type": "stream",
     "text": [
      "              de          en          es       fr\n",
      "precision: [0.99980486 0.99975612 0.99995121 0.99995121]\n",
      "recall:    [0.99982925 0.99992682 0.99992682 0.99978047]\n",
      "f1 score:  [0.99981706 0.99984146 0.99993902 0.99986583]\n",
      "--------------------------------------------------------\n",
      "              de          en          es       fr\n",
      "precision: [0.99980487 0.99982927 1.         0.99997561]\n",
      "recall:    [0.99985364 0.99995121 0.99987804 0.99992682]\n",
      "f1 score:  [0.99982926 0.99989024 0.99993901 0.99995121]\n",
      "--------------------------------------------------------\n",
      "              de          en          es       fr\n",
      "precision: [0.99980486 0.99978051 1.         0.9999756 ]\n",
      "recall:    [0.99982925 1.         0.99985364 0.99987804]\n",
      "f1 score:  [0.99981706 0.99989025 0.99992682 0.99992682]\n",
      "--------------------------------------------------------\n",
      "              de          en          es       fr\n",
      "precision: [0.99982927 0.99987805 1.         0.9999756 ]\n",
      "recall:    [0.99995121 0.99997561 0.99987804 0.99987803]\n",
      "f1 score:  [0.99989024 0.99992683 0.99993901 0.99992682]\n",
      "--------------------------------------------------------\n",
      "              de          en          es       fr\n",
      "precision: [0.9997561  0.99985366 0.9999756  0.99992681]\n",
      "recall:    [0.99985364 0.99997561 0.99985364 0.99982925]\n",
      "f1 score:  [0.99980487 0.99991463 0.99991462 0.99987803]\n",
      "--------------------------------------------------------\n",
      "accuracy: 99.989% (+/- 0.00%)\n",
      "precision: 99.989% (+/- 0.00%)\n",
      "recall: 99.989% (+/- 0.00%)\n",
      "f1 score: 99.989% (+/- 0.00%)\n",
      "Wall time: 19min 59s\n"
     ]
    },
    {
     "data": {
      "text/plain": [
       "array(['fr', 'fr', 'fr', 'fr', 'fr', 'fr', 'fr', 'fr', 'fr', 'fr', 'fr',\n",
       "       'fr', 'fr', 'fr', 'fr', 'fr', 'fr', 'fr', 'fr', 'fr', 'es', 'es',\n",
       "       'es', 'es', 'es', 'es', 'es', 'es', 'es', 'es', 'es', 'es', 'es',\n",
       "       'es', 'es', 'es', 'es', 'es', 'es', 'es', 'de', 'de', 'de', 'de',\n",
       "       'de', 'de', 'de', 'de', 'de', 'de', 'de', 'de', 'de', 'de', 'de',\n",
       "       'de', 'de', 'de', 'de', 'de', 'en', 'en', 'en', 'en', 'en', 'en',\n",
       "       'en', 'en', 'en', 'en', 'en', 'en', 'en', 'en', 'en', 'en', 'en',\n",
       "       'en', 'en', 'en'], dtype='<U2')"
      ]
     },
     "execution_count": 26,
     "metadata": {},
     "output_type": "execute_result"
    }
   ],
   "source": [
    "%%time\n",
    "#testing the performance and predictions for the full formal text\n",
    "lr_cv(5, common_df.new, common_df.language, bayes_pipeline_up,'macro',full_formal.txt)"
   ]
  },
  {
   "cell_type": "code",
   "execution_count": 12,
   "metadata": {},
   "outputs": [
    {
     "name": "stdout",
     "output_type": "stream",
     "text": [
      "              de          en          es       fr\n",
      "precision: [0.99980486 0.99975612 0.99995121 0.99995121]\n",
      "recall:    [0.99982925 0.99992682 0.99992682 0.99978047]\n",
      "f1 score:  [0.99981706 0.99984146 0.99993902 0.99986583]\n",
      "--------------------------------------------------------\n",
      "              de          en          es       fr\n",
      "precision: [0.99980487 0.99982927 1.         0.99997561]\n",
      "recall:    [0.99985364 0.99995121 0.99987804 0.99992682]\n",
      "f1 score:  [0.99982926 0.99989024 0.99993901 0.99995121]\n",
      "--------------------------------------------------------\n",
      "              de          en          es       fr\n",
      "precision: [0.99980486 0.99978051 1.         0.9999756 ]\n",
      "recall:    [0.99982925 1.         0.99985364 0.99987804]\n",
      "f1 score:  [0.99981706 0.99989025 0.99992682 0.99992682]\n",
      "--------------------------------------------------------\n",
      "              de          en          es       fr\n",
      "precision: [0.99982927 0.99987805 1.         0.9999756 ]\n",
      "recall:    [0.99995121 0.99997561 0.99987804 0.99987803]\n",
      "f1 score:  [0.99989024 0.99992683 0.99993901 0.99992682]\n",
      "--------------------------------------------------------\n",
      "              de          en          es       fr\n",
      "precision: [0.9997561  0.99985366 0.9999756  0.99992681]\n",
      "recall:    [0.99985364 0.99997561 0.99985364 0.99982925]\n",
      "f1 score:  [0.99980487 0.99991463 0.99991462 0.99987803]\n",
      "--------------------------------------------------------\n",
      "accuracy: 99.989% (+/- 0.00%)\n",
      "precision: 99.989% (+/- 0.00%)\n",
      "recall: 99.989% (+/- 0.00%)\n",
      "f1 score: 99.989% (+/- 0.00%)\n",
      "Wall time: 12min 15s\n"
     ]
    },
    {
     "data": {
      "text/plain": [
       "array(['fr', 'fr', 'fr', 'fr', 'fr', 'fr', 'fr', 'fr', 'fr', 'fr', 'fr',\n",
       "       'fr', 'fr', 'fr', 'fr', 'fr', 'de', 'fr', 'fr', 'fr', 'de', 'es',\n",
       "       'es', 'es', 'es', 'es', 'es', 'es', 'es', 'es', 'es', 'es', 'de',\n",
       "       'es', 'es', 'es', 'es', 'es', 'es', 'es', 'de', 'de', 'de', 'de',\n",
       "       'de', 'de', 'de', 'de', 'de', 'de', 'de', 'de', 'de', 'de', 'de',\n",
       "       'de', 'de', 'de', 'de', 'de', 'en', 'en', 'en', 'en', 'en', 'en',\n",
       "       'en', 'de', 'en', 'en', 'en', 'en', 'en', 'de', 'en', 'en', 'en',\n",
       "       'en', 'en', 'en'], dtype='<U2')"
      ]
     },
     "execution_count": 12,
     "metadata": {},
     "output_type": "execute_result"
    }
   ],
   "source": [
    "%%time\n",
    "#testing the performance and predictions for the short formal text\n",
    "lr_cv(5, common_df.new, common_df.language, bayes_pipeline_up,'macro',formal.txt)"
   ]
  },
  {
   "cell_type": "code",
   "execution_count": 13,
   "metadata": {},
   "outputs": [
    {
     "name": "stdout",
     "output_type": "stream",
     "text": [
      "              de          en          es       fr\n",
      "precision: [0.99980486 0.99975612 0.99995121 0.99995121]\n",
      "recall:    [0.99982925 0.99992682 0.99992682 0.99978047]\n",
      "f1 score:  [0.99981706 0.99984146 0.99993902 0.99986583]\n",
      "--------------------------------------------------------\n",
      "              de          en          es       fr\n",
      "precision: [0.99980487 0.99982927 1.         0.99997561]\n",
      "recall:    [0.99985364 0.99995121 0.99987804 0.99992682]\n",
      "f1 score:  [0.99982926 0.99989024 0.99993901 0.99995121]\n",
      "--------------------------------------------------------\n",
      "              de          en          es       fr\n",
      "precision: [0.99980486 0.99978051 1.         0.9999756 ]\n",
      "recall:    [0.99982925 1.         0.99985364 0.99987804]\n",
      "f1 score:  [0.99981706 0.99989025 0.99992682 0.99992682]\n",
      "--------------------------------------------------------\n",
      "              de          en          es       fr\n",
      "precision: [0.99982927 0.99987805 1.         0.9999756 ]\n",
      "recall:    [0.99995121 0.99997561 0.99987804 0.99987803]\n",
      "f1 score:  [0.99989024 0.99992683 0.99993901 0.99992682]\n",
      "--------------------------------------------------------\n",
      "              de          en          es       fr\n",
      "precision: [0.9997561  0.99985366 0.9999756  0.99992681]\n",
      "recall:    [0.99985364 0.99997561 0.99985364 0.99982925]\n",
      "f1 score:  [0.99980487 0.99991463 0.99991462 0.99987803]\n",
      "--------------------------------------------------------\n",
      "accuracy: 99.989% (+/- 0.00%)\n",
      "precision: 99.989% (+/- 0.00%)\n",
      "recall: 99.989% (+/- 0.00%)\n",
      "f1 score: 99.989% (+/- 0.00%)\n",
      "Wall time: 10min 59s\n"
     ]
    },
    {
     "data": {
      "text/plain": [
       "array(['fr', 'fr', 'fr', 'fr', 'fr', 'fr', 'fr', 'fr', 'fr', 'fr', 'fr',\n",
       "       'fr', 'fr', 'fr', 'fr', 'fr', 'fr', 'fr', 'fr', 'fr', 'es', 'es',\n",
       "       'es', 'es', 'es', 'es', 'es', 'es', 'es', 'es', 'es', 'es', 'es',\n",
       "       'es', 'es', 'es', 'es', 'es', 'es', 'es', 'de', 'de', 'de', 'de',\n",
       "       'de', 'de', 'de', 'de', 'de', 'de', 'de', 'de', 'de', 'de', 'de',\n",
       "       'de', 'de', 'de', 'de', 'de', 'en', 'en', 'en', 'en', 'en', 'en',\n",
       "       'en', 'en', 'en', 'en', 'en', 'en', 'en', 'en', 'en', 'en', 'en',\n",
       "       'en', 'en', 'en'], dtype='<U2')"
      ]
     },
     "execution_count": 13,
     "metadata": {},
     "output_type": "execute_result"
    }
   ],
   "source": [
    "%%time\n",
    "#testing the performance and predictions for the short informal text\n",
    "lr_cv(5, common_df.new, common_df.language, bayes_pipeline_up,'macro',short.review_body)"
   ]
  },
  {
   "cell_type": "markdown",
   "metadata": {},
   "source": [
    "1,000,000 FEATURES"
   ]
  },
  {
   "cell_type": "code",
   "execution_count": 13,
   "metadata": {},
   "outputs": [],
   "source": [
    "#custom vectorizer for 1,000,000 features\n",
    "tvec_up_more = TfidfVectorizer(token_pattern='(?u)\\\\b\\\\w\\\\w*\\\\b|„|¿|¡', max_features=1000000, ngram_range=(1, 3))"
   ]
  },
  {
   "cell_type": "code",
   "execution_count": 14,
   "metadata": {},
   "outputs": [],
   "source": [
    "#pipeline for 1,000,000 features\n",
    "clf = MultinomialNB()\n",
    "bayes_pipeline_up_more = Pipeline([\n",
    "    ('vectorizer', tvec_up_more),\n",
    "    ('classifier', clf)\n",
    "])"
   ]
  },
  {
   "cell_type": "code",
   "execution_count": 28,
   "metadata": {},
   "outputs": [
    {
     "name": "stdout",
     "output_type": "stream",
     "text": [
      "              de          en          es       fr\n",
      "precision: [1.         0.99982927 0.99997561 0.99995122]\n",
      "recall:    [0.99985364 0.99995121 0.99997561 0.99997561]\n",
      "f1 score:  [0.99992682 0.99989024 0.99997561 0.99996341]\n",
      "--------------------------------------------------------\n",
      "              de          en          es       fr\n",
      "precision: [0.99992682 0.99987805 1.         1.        ]\n",
      "recall:    [0.99990243 0.99995121 1.         0.99995121]\n",
      "f1 score:  [0.99991462 0.99991463 1.         0.99997561]\n",
      "--------------------------------------------------------\n",
      "              de          en          es       fr\n",
      "precision: [0.99990242 0.99985367 1.         0.99997561]\n",
      "recall:    [0.99985364 1.         0.99995121 0.99992682]\n",
      "f1 score:  [0.99987803 0.99992683 0.99997561 0.99995121]\n",
      "--------------------------------------------------------\n",
      "              de          en          es       fr\n",
      "precision: [0.99987805 0.99992683 1.         1.        ]\n",
      "recall:    [0.99995121 0.99997561 0.99992682 0.99995121]\n",
      "f1 score:  [0.99991463 0.99995122 0.99996341 0.99997561]\n",
      "--------------------------------------------------------\n",
      "              de          en          es       fr\n",
      "precision: [0.99992682 0.99985366 1.         0.99995121]\n",
      "recall:    [0.99987804 0.99997561 0.99997561 0.99990243]\n",
      "f1 score:  [0.99990243 0.99991463 0.9999878  0.99992682]\n",
      "--------------------------------------------------------\n",
      "accuracy: 99.994% (+/- 0.00%)\n",
      "precision: 99.994% (+/- 0.00%)\n",
      "recall: 99.994% (+/- 0.00%)\n",
      "f1 score: 99.994% (+/- 0.00%)\n",
      "Wall time: 20min 24s\n"
     ]
    },
    {
     "data": {
      "text/plain": [
       "array(['fr', 'fr', 'fr', 'fr', 'fr', 'fr', 'fr', 'fr', 'fr', 'fr', 'fr',\n",
       "       'fr', 'fr', 'fr', 'fr', 'fr', 'fr', 'fr', 'fr', 'fr', 'es', 'es',\n",
       "       'es', 'es', 'es', 'es', 'es', 'es', 'es', 'es', 'es', 'es', 'es',\n",
       "       'es', 'es', 'es', 'es', 'es', 'es', 'es', 'de', 'de', 'de', 'de',\n",
       "       'de', 'de', 'de', 'de', 'de', 'de', 'de', 'de', 'de', 'de', 'de',\n",
       "       'de', 'de', 'de', 'de', 'de', 'en', 'en', 'en', 'en', 'en', 'en',\n",
       "       'en', 'en', 'en', 'en', 'en', 'en', 'en', 'en', 'en', 'en', 'en',\n",
       "       'en', 'en', 'en'], dtype='<U2')"
      ]
     },
     "execution_count": 28,
     "metadata": {},
     "output_type": "execute_result"
    }
   ],
   "source": [
    "%%time\n",
    "#testing the performance and predictions for the full formal text\n",
    "lr_cv(5, common_df.new, common_df.language, bayes_pipeline_up_more,'macro',full_formal.txt)"
   ]
  },
  {
   "cell_type": "code",
   "execution_count": 15,
   "metadata": {},
   "outputs": [
    {
     "name": "stdout",
     "output_type": "stream",
     "text": [
      "              de          en          es       fr\n",
      "precision: [1.         0.99982927 0.99997561 0.99995122]\n",
      "recall:    [0.99985364 0.99995121 0.99997561 0.99997561]\n",
      "f1 score:  [0.99992682 0.99989024 0.99997561 0.99996341]\n",
      "--------------------------------------------------------\n",
      "              de          en          es       fr\n",
      "precision: [0.99992682 0.99987805 1.         1.        ]\n",
      "recall:    [0.99990243 0.99995121 1.         0.99995121]\n",
      "f1 score:  [0.99991462 0.99991463 1.         0.99997561]\n",
      "--------------------------------------------------------\n",
      "              de          en          es       fr\n",
      "precision: [0.99990242 0.99985367 1.         0.99997561]\n",
      "recall:    [0.99985364 1.         0.99995121 0.99992682]\n",
      "f1 score:  [0.99987803 0.99992683 0.99997561 0.99995121]\n",
      "--------------------------------------------------------\n",
      "              de          en          es       fr\n",
      "precision: [0.99987805 0.99992683 1.         1.        ]\n",
      "recall:    [0.99995121 0.99997561 0.99992682 0.99995121]\n",
      "f1 score:  [0.99991463 0.99995122 0.99996341 0.99997561]\n",
      "--------------------------------------------------------\n",
      "              de          en          es       fr\n",
      "precision: [0.99992682 0.99985366 1.         0.99995121]\n",
      "recall:    [0.99987804 0.99997561 0.99997561 0.99990243]\n",
      "f1 score:  [0.99990243 0.99991463 0.9999878  0.99992682]\n",
      "--------------------------------------------------------\n",
      "accuracy: 99.994% (+/- 0.00%)\n",
      "precision: 99.994% (+/- 0.00%)\n",
      "recall: 99.994% (+/- 0.00%)\n",
      "f1 score: 99.994% (+/- 0.00%)\n",
      "Wall time: 16min 28s\n"
     ]
    },
    {
     "data": {
      "text/plain": [
       "array(['fr', 'fr', 'fr', 'fr', 'fr', 'fr', 'fr', 'fr', 'fr', 'fr', 'fr',\n",
       "       'fr', 'fr', 'fr', 'fr', 'fr', 'fr', 'fr', 'fr', 'fr', 'es', 'es',\n",
       "       'es', 'es', 'es', 'es', 'es', 'es', 'es', 'es', 'es', 'es', 'de',\n",
       "       'es', 'es', 'es', 'es', 'es', 'es', 'es', 'de', 'de', 'de', 'de',\n",
       "       'de', 'de', 'de', 'de', 'de', 'de', 'de', 'de', 'de', 'de', 'de',\n",
       "       'de', 'de', 'de', 'de', 'de', 'en', 'en', 'en', 'en', 'en', 'en',\n",
       "       'en', 'en', 'en', 'en', 'en', 'en', 'en', 'en', 'en', 'en', 'en',\n",
       "       'en', 'en', 'en'], dtype='<U2')"
      ]
     },
     "execution_count": 15,
     "metadata": {},
     "output_type": "execute_result"
    }
   ],
   "source": [
    "%%time\n",
    "#testing the performance and predictions for the short formal text\n",
    "lr_cv(5, common_df.new, common_df.language, bayes_pipeline_up_more,'macro',formal.txt)"
   ]
  },
  {
   "cell_type": "code",
   "execution_count": 16,
   "metadata": {},
   "outputs": [
    {
     "name": "stdout",
     "output_type": "stream",
     "text": [
      "              de          en          es       fr\n",
      "precision: [1.         0.99982927 0.99997561 0.99995122]\n",
      "recall:    [0.99985364 0.99995121 0.99997561 0.99997561]\n",
      "f1 score:  [0.99992682 0.99989024 0.99997561 0.99996341]\n",
      "--------------------------------------------------------\n",
      "              de          en          es       fr\n",
      "precision: [0.99992682 0.99987805 1.         1.        ]\n",
      "recall:    [0.99990243 0.99995121 1.         0.99995121]\n",
      "f1 score:  [0.99991462 0.99991463 1.         0.99997561]\n",
      "--------------------------------------------------------\n",
      "              de          en          es       fr\n",
      "precision: [0.99990242 0.99985367 1.         0.99997561]\n",
      "recall:    [0.99985364 1.         0.99995121 0.99992682]\n",
      "f1 score:  [0.99987803 0.99992683 0.99997561 0.99995121]\n",
      "--------------------------------------------------------\n",
      "              de          en          es       fr\n",
      "precision: [0.99987805 0.99992683 1.         1.        ]\n",
      "recall:    [0.99995121 0.99997561 0.99992682 0.99995121]\n",
      "f1 score:  [0.99991463 0.99995122 0.99996341 0.99997561]\n",
      "--------------------------------------------------------\n",
      "              de          en          es       fr\n",
      "precision: [0.99992682 0.99985366 1.         0.99995121]\n",
      "recall:    [0.99987804 0.99997561 0.99997561 0.99990243]\n",
      "f1 score:  [0.99990243 0.99991463 0.9999878  0.99992682]\n",
      "--------------------------------------------------------\n",
      "accuracy: 99.994% (+/- 0.00%)\n",
      "precision: 99.994% (+/- 0.00%)\n",
      "recall: 99.994% (+/- 0.00%)\n",
      "f1 score: 99.994% (+/- 0.00%)\n",
      "Wall time: 11min 19s\n"
     ]
    },
    {
     "data": {
      "text/plain": [
       "array(['fr', 'fr', 'fr', 'fr', 'fr', 'fr', 'fr', 'fr', 'fr', 'fr', 'fr',\n",
       "       'fr', 'fr', 'fr', 'fr', 'fr', 'fr', 'fr', 'fr', 'fr', 'es', 'es',\n",
       "       'es', 'es', 'es', 'es', 'es', 'es', 'es', 'es', 'es', 'es', 'es',\n",
       "       'es', 'es', 'es', 'es', 'es', 'es', 'es', 'de', 'de', 'de', 'de',\n",
       "       'de', 'de', 'de', 'de', 'de', 'de', 'de', 'de', 'de', 'de', 'de',\n",
       "       'de', 'de', 'de', 'de', 'de', 'en', 'en', 'en', 'en', 'en', 'en',\n",
       "       'en', 'en', 'en', 'en', 'en', 'en', 'en', 'en', 'en', 'en', 'en',\n",
       "       'en', 'en', 'en'], dtype='<U2')"
      ]
     },
     "execution_count": 16,
     "metadata": {},
     "output_type": "execute_result"
    }
   ],
   "source": [
    "%%time\n",
    "#testing the performance and predictions for the short text\n",
    "lr_cv(5, common_df.new, common_df.language, bayes_pipeline_up_more,'macro',short.review_body)"
   ]
  },
  {
   "cell_type": "markdown",
   "metadata": {},
   "source": [
    "Random Forest"
   ]
  },
  {
   "cell_type": "code",
   "execution_count": 19,
   "metadata": {},
   "outputs": [],
   "source": [
    "#a pipeline for Random Forest with 10,000\n",
    "rf = RandomForestClassifier()\n",
    "rf_pipeline = Pipeline([\n",
    "    ('vectorizer', tvec),\n",
    "    ('classifier', rf)\n",
    "])\n"
   ]
  },
  {
   "cell_type": "code",
   "execution_count": 21,
   "metadata": {},
   "outputs": [
    {
     "name": "stdout",
     "output_type": "stream",
     "text": [
      "              de          en          es       fr\n",
      "precision: [0.99987792 0.99973161 0.99759048 0.99978025]\n",
      "recall:    [0.99890233 0.99946336 0.99980486 0.99880476]\n",
      "f1 score:  [0.99938989 0.99959747 0.99869644 0.99929227]\n",
      "--------------------------------------------------------\n",
      "              de          en          es       fr\n",
      "precision: [0.99990232 0.99975597 0.99737188 0.99968262]\n",
      "recall:    [0.99882915 0.99931701 0.99975607 0.99880476]\n",
      "f1 score:  [0.99936545 0.99953644 0.99856255 0.9992435 ]\n",
      "--------------------------------------------------------\n",
      "              de          en          es       fr\n",
      "precision: [0.99982911 0.99963407 0.99788161 0.99973145]\n",
      "recall:    [0.9989999  0.99953654 0.9996585  0.99887794]\n",
      "f1 score:  [0.99941433 0.99958531 0.99876927 0.99930451]\n",
      "--------------------------------------------------------\n",
      "              de          en          es       fr\n",
      "precision: [0.99990236 0.99970717 0.99776058 0.99985349]\n",
      "recall:    [0.99921944 0.99929261 0.99985364 0.99885352]\n",
      "f1 score:  [0.99956078 0.99949985 0.99880601 0.99935326]\n",
      "--------------------------------------------------------\n",
      "              de          en          es       fr\n",
      "precision: [0.99980469 0.99982916 0.99759036 0.99975589]\n",
      "recall:    [0.99892672 0.99926822 0.99975607 0.99902427]\n",
      "f1 score:  [0.99936551 0.99954861 0.99867204 0.99938995]\n",
      "--------------------------------------------------------\n",
      "accuracy: 99.925% (+/- 0.00%)\n",
      "precision: 99.925% (+/- 0.00%)\n",
      "recall: 99.925% (+/- 0.00%)\n",
      "f1 score: 99.925% (+/- 0.00%)\n",
      "Wall time: 31min 25s\n"
     ]
    },
    {
     "data": {
      "text/plain": [
       "array(['es', 'fr', 'fr', 'fr', 'fr', 'fr', 'fr', 'fr', 'fr', 'fr', 'fr',\n",
       "       'fr', 'fr', 'fr', 'fr', 'fr', 'fr', 'fr', 'fr', 'fr', 'es', 'en',\n",
       "       'es', 'es', 'es', 'es', 'es', 'es', 'es', 'es', 'es', 'es', 'es',\n",
       "       'es', 'es', 'es', 'es', 'es', 'es', 'es', 'de', 'de', 'de', 'de',\n",
       "       'de', 'de', 'de', 'de', 'de', 'de', 'de', 'de', 'de', 'de', 'de',\n",
       "       'de', 'de', 'de', 'de', 'de', 'en', 'en', 'en', 'en', 'en', 'en',\n",
       "       'en', 'en', 'en', 'en', 'en', 'en', 'en', 'en', 'en', 'en', 'en',\n",
       "       'en', 'en', 'en'], dtype=object)"
      ]
     },
     "execution_count": 21,
     "metadata": {},
     "output_type": "execute_result"
    }
   ],
   "source": [
    "%%time\n",
    "#testing the performance and predictions for the short text\n",
    "lr_cv(5, common_df.new, common_df.language, rf_pipeline,'macro',short.review_body)"
   ]
  },
  {
   "cell_type": "code",
   "execution_count": 68,
   "metadata": {},
   "outputs": [
    {
     "name": "stdout",
     "output_type": "stream",
     "text": [
      "              de          en          es       fr\n",
      "precision: [0.99990236 0.99975609 0.99878174 0.99987798]\n",
      "recall:    [0.99919504 0.99982925 0.99990243 0.99939018]\n",
      "f1 score:  [0.99954858 0.99979267 0.99934177 0.99963402]\n",
      "--------------------------------------------------------\n",
      "              de          en          es       fr\n",
      "precision: [0.99982914 0.99975609 0.99870864 0.99990238]\n",
      "recall:    [0.99919504 0.99980486 0.99982925 0.99936579]\n",
      "f1 score:  [0.99951199 0.99978047 0.99926863 0.99963401]\n",
      "--------------------------------------------------------\n",
      "              de          en          es       fr\n",
      "precision: [0.99987796 0.99973173 0.99900078 0.99990239]\n",
      "recall:    [0.99924383 0.99992682 0.99987804 0.99946336]\n",
      "f1 score:  [0.99956079 0.99982927 0.99943922 0.99968283]\n",
      "--------------------------------------------------------\n",
      "              de          en          es       fr\n",
      "precision: [0.99990238 0.99987804 0.9989034  0.99990237]\n",
      "recall:    [0.99943897 0.99992682 0.99987804 0.99934138]\n",
      "f1 score:  [0.99967062 0.99990243 0.99939048 0.9996218 ]\n",
      "--------------------------------------------------------\n",
      "              de          en          es       fr\n",
      "precision: [0.99987796 0.99990243 0.99887911 0.99992679]\n",
      "recall:    [0.99926822 0.99987804 0.99992682 0.99951214]\n",
      "f1 score:  [0.999573   0.99989023 0.99940269 0.99971942]\n",
      "--------------------------------------------------------\n",
      "accuracy: 99.961% (+/- 0.00%)\n",
      "precision: 99.961% (+/- 0.00%)\n",
      "recall: 99.961% (+/- 0.00%)\n",
      "f1 score: 99.961% (+/- 0.00%)\n",
      "Wall time: 4h 29min 25s\n"
     ]
    },
    {
     "data": {
      "text/plain": [
       "array(['es', 'fr', 'fr', 'fr', 'fr', 'fr', 'fr', 'fr', 'fr', 'fr', 'fr',\n",
       "       'fr', 'fr', 'fr', 'fr', 'fr', 'fr', 'fr', 'fr', 'fr', 'es', 'es',\n",
       "       'es', 'es', 'es', 'es', 'es', 'es', 'es', 'es', 'es', 'es', 'es',\n",
       "       'es', 'es', 'es', 'es', 'es', 'es', 'es', 'de', 'de', 'de', 'de',\n",
       "       'de', 'de', 'de', 'de', 'de', 'de', 'de', 'de', 'de', 'de', 'de',\n",
       "       'de', 'de', 'de', 'de', 'de', 'en', 'en', 'en', 'en', 'en', 'en',\n",
       "       'en', 'en', 'en', 'en', 'en', 'en', 'en', 'en', 'en', 'en', 'en',\n",
       "       'en', 'en', 'en'], dtype=object)"
      ]
     },
     "execution_count": 68,
     "metadata": {},
     "output_type": "execute_result"
    }
   ],
   "source": [
    "%%time\n",
    "#Support Vector Machines (ovo) Pipeline  with predictions for short text\n",
    "from sklearn import svm\n",
    "svm = svm.SVC(decision_function_shape='ovo')\n",
    "svm_pipeline = Pipeline([\n",
    "    ('vectorizer', tvec),\n",
    "    ('classifier', svm)\n",
    "])\n",
    "lr_cv(5, common_df.new, common_df.language, svm_pipeline,'macro', short.review_body)"
   ]
  },
  {
   "cell_type": "code",
   "execution_count": 67,
   "metadata": {},
   "outputs": [
    {
     "name": "stdout",
     "output_type": "stream",
     "text": [
      "              de          en          es       fr\n",
      "precision: [0.99992677 0.99824668 0.99990239 0.99995119]\n",
      "recall:    [0.99921944 0.99992682 0.99946336 0.99941458]\n",
      "f1 score:  [0.99957298 0.99908605 0.99968283 0.99968281]\n",
      "--------------------------------------------------------\n",
      "              de          en          es       fr\n",
      "precision: [0.99995118 0.99812524 0.99990237 0.99995119]\n",
      "recall:    [0.99921944 0.99997561 0.9993414  0.99939018]\n",
      "f1 score:  [0.99958517 0.99904957 0.99962181 0.99967061]\n",
      "--------------------------------------------------------\n",
      "              de          en          es       fr\n",
      "precision: [0.99878159 0.99975612 0.99997559 0.99992679]\n",
      "recall:    [0.99978047 0.99995121 0.99921944 0.99948775]\n",
      "f1 score:  [0.99928078 0.99985366 0.99959737 0.99970722]\n",
      "--------------------------------------------------------\n",
      "              de          en          es       fr\n",
      "precision: [0.99995119 0.99844131 0.99987797 0.99992678]\n",
      "recall:    [0.99946336 1.         0.99936579 0.99936578]\n",
      "f1 score:  [0.99970722 0.99922004 0.99962182 0.9996462 ]\n",
      "--------------------------------------------------------\n",
      "              de          en          es       fr\n",
      "precision: [0.99990237 0.9982953  0.99985356 0.99992679]\n",
      "recall:    [0.99926822 0.99992682 0.99929261 0.99948774]\n",
      "f1 score:  [0.99958519 0.9991104  0.99957301 0.99970722]\n",
      "--------------------------------------------------------\n",
      "accuracy: 99.953% (+/- 0.00%)\n",
      "precision: 99.953% (+/- 0.00%)\n",
      "recall: 99.953% (+/- 0.00%)\n",
      "f1 score: 99.953% (+/- 0.00%)\n",
      "Wall time: 12h 17min 32s\n"
     ]
    },
    {
     "data": {
      "text/plain": [
       "array(['en', 'fr', 'fr', 'fr', 'fr', 'fr', 'fr', 'fr', 'fr', 'fr', 'fr',\n",
       "       'fr', 'fr', 'fr', 'fr', 'fr', 'fr', 'fr', 'fr', 'fr', 'es', 'en',\n",
       "       'es', 'en', 'es', 'es', 'es', 'es', 'es', 'es', 'es', 'es', 'es',\n",
       "       'es', 'es', 'es', 'es', 'es', 'es', 'en', 'de', 'de', 'de', 'de',\n",
       "       'de', 'de', 'de', 'de', 'de', 'de', 'de', 'de', 'de', 'de', 'de',\n",
       "       'de', 'de', 'de', 'de', 'de', 'en', 'en', 'en', 'en', 'en', 'en',\n",
       "       'en', 'en', 'en', 'en', 'en', 'en', 'en', 'en', 'en', 'en', 'en',\n",
       "       'en', 'en', 'en'], dtype='<U2')"
      ]
     },
     "execution_count": 67,
     "metadata": {},
     "output_type": "execute_result"
    }
   ],
   "source": [
    "%%time\n",
    "#Support Vector Machines (ovr) Pipeline with predictions for short text\n",
    "svc = OneVsRestClassifier(SVC())\n",
    "svc_pipeline = Pipeline([\n",
    "    ('vectorizer', tvec),\n",
    "    ('classifier', svc)])\n",
    "lr_cv(5, common_df.new, common_df.language, svc_pipeline,'macro', short.review_body)"
   ]
  },
  {
   "cell_type": "markdown",
   "metadata": {},
   "source": [
    "TESTING EXISTING LANGUAGE IDENTIFICATION TOOLS ON SHORT, FORMAL AND SGORT FORMAL SAMPLES"
   ]
  },
  {
   "cell_type": "code",
   "execution_count": 33,
   "metadata": {},
   "outputs": [],
   "source": [
    "#adding the results of LangDetect tool to the dataframe for short samples\n",
    "short['Languagereveiw'] = short['review_body'].apply(detect)"
   ]
  },
  {
   "cell_type": "code",
   "execution_count": 36,
   "metadata": {},
   "outputs": [
    {
     "data": {
      "text/plain": [
       "['fr',\n",
       " 'cs',\n",
       " 'fr',\n",
       " 'nl',\n",
       " 'fr',\n",
       " 'ro',\n",
       " 'fr',\n",
       " 'fr',\n",
       " 'fr',\n",
       " 'fr',\n",
       " 'fr',\n",
       " 'fr',\n",
       " 'fr',\n",
       " 'fr',\n",
       " 'fr',\n",
       " 'fr',\n",
       " 'af',\n",
       " 'fr',\n",
       " 'ro',\n",
       " 'fr',\n",
       " 'pt',\n",
       " 'lt',\n",
       " 'tl',\n",
       " 'es',\n",
       " 'ca',\n",
       " 'hu',\n",
       " 'es',\n",
       " 'fr',\n",
       " 'es',\n",
       " 'es',\n",
       " 'fr',\n",
       " 'es',\n",
       " 'es',\n",
       " 'pt',\n",
       " 'cs',\n",
       " 'es',\n",
       " 'es',\n",
       " 'es',\n",
       " 'it',\n",
       " 'es',\n",
       " 'de',\n",
       " 'de',\n",
       " 'de',\n",
       " 'de',\n",
       " 'de',\n",
       " 'de',\n",
       " 'de',\n",
       " 'af',\n",
       " 'af',\n",
       " 'de',\n",
       " 'de',\n",
       " 'de',\n",
       " 'de',\n",
       " 'de',\n",
       " 'nl',\n",
       " 'de',\n",
       " 'af',\n",
       " 'de',\n",
       " 'de',\n",
       " 'de',\n",
       " 'en',\n",
       " 'en',\n",
       " 'en',\n",
       " 'en',\n",
       " 'en',\n",
       " 'en',\n",
       " 'en',\n",
       " 'en',\n",
       " 'en',\n",
       " 'en',\n",
       " 'it',\n",
       " 'af',\n",
       " 'en',\n",
       " 'en',\n",
       " 'en',\n",
       " 'en',\n",
       " 'af',\n",
       " 'en',\n",
       " 'af',\n",
       " 'en']"
      ]
     },
     "execution_count": 36,
     "metadata": {},
     "output_type": "execute_result"
    }
   ],
   "source": [
    "short['Languagereveiw'].values.tolist()"
   ]
  },
  {
   "cell_type": "code",
   "execution_count": 41,
   "metadata": {},
   "outputs": [],
   "source": [
    "#adding the results of DetectLanguage tool to the dataframe for short samples\n",
    "short['detectlanguage'] = short['review_body'].apply(detectlanguage.detect)"
   ]
  },
  {
   "cell_type": "code",
   "execution_count": 60,
   "metadata": {},
   "outputs": [
    {
     "data": {
      "text/plain": [
       "80"
      ]
     },
     "execution_count": 60,
     "metadata": {},
     "output_type": "execute_result"
    }
   ],
   "source": [
    "detectlanguage_list=['fr','fr','fr','is','fr','fr','fr','fr','fr','fr','fr','en','fr','fr','fr',\"fr\",'en','fr','fr','fr','es',\n",
    "                    'en','en','es','es','es','gn','es','es','en','en','es','es','es','es','es','es','es','es','es','de','de',\n",
    "                    'de','de','de','de','da','de','de','id','de','de','de','de','lb','de','de','de','de','de','en','en','en','en',\n",
    "                    'en','en','en','en','en', 'en','en','en','en','en','en','en','en','en','en','en']\n",
    "len(detectlanguage_list)"
   ]
  },
  {
   "cell_type": "code",
   "execution_count": 61,
   "metadata": {},
   "outputs": [],
   "source": [
    "detectlanguage = pd.Series(detectlanguage_list)\n",
    "short['detectlanguage']=detectlanguage.values"
   ]
  },
  {
   "cell_type": "code",
   "execution_count": 48,
   "metadata": {},
   "outputs": [],
   "source": [
    "#results of TextBlob for short samples\n",
    "short['TextBlob'] = short['review_body'].apply(lambda x: TextBlob(x).detect_language())"
   ]
  },
  {
   "cell_type": "code",
   "execution_count": 18,
   "metadata": {},
   "outputs": [],
   "source": [
    "translator = google_translator()  "
   ]
  },
  {
   "cell_type": "code",
   "execution_count": 25,
   "metadata": {},
   "outputs": [],
   "source": [
    "#results of Google Translate for the short sample\n",
    "short['googletrans'] =  short['review_body'].apply(lambda x: translator.detect(x))"
   ]
  },
  {
   "cell_type": "code",
   "execution_count": 19,
   "metadata": {},
   "outputs": [],
   "source": [
    "#results of Google Translate for the formal short sample\n",
    "formal['googletrans'] =  formal['txt'].apply(lambda x: translator.detect(x))"
   ]
  },
  {
   "cell_type": "code",
   "execution_count": 29,
   "metadata": {},
   "outputs": [
    {
     "data": {
      "text/plain": [
       "[['fr', 'french'],\n",
       " ['fr', 'french'],\n",
       " ['fr', 'french'],\n",
       " ['fr', 'french'],\n",
       " ['fr', 'french'],\n",
       " ['fr', 'french'],\n",
       " ['fr', 'french'],\n",
       " ['fr', 'french'],\n",
       " ['fr', 'french'],\n",
       " ['fr', 'french'],\n",
       " ['fr', 'french'],\n",
       " ['fr', 'french'],\n",
       " ['fr', 'french'],\n",
       " ['fr', 'french'],\n",
       " ['fr', 'french'],\n",
       " ['fr', 'french'],\n",
       " ['fr', 'french'],\n",
       " ['fr', 'french'],\n",
       " ['fr', 'french'],\n",
       " ['fr', 'french'],\n",
       " ['es', 'spanish'],\n",
       " ['es', 'spanish'],\n",
       " ['es', 'spanish'],\n",
       " ['es', 'spanish'],\n",
       " ['es', 'spanish'],\n",
       " ['es', 'spanish'],\n",
       " ['es', 'spanish'],\n",
       " ['es', 'spanish'],\n",
       " ['es', 'spanish'],\n",
       " ['es', 'spanish'],\n",
       " ['es', 'spanish'],\n",
       " ['es', 'spanish'],\n",
       " ['es', 'spanish'],\n",
       " ['es', 'spanish'],\n",
       " ['es', 'spanish'],\n",
       " ['es', 'spanish'],\n",
       " ['es', 'spanish'],\n",
       " ['es', 'spanish'],\n",
       " ['es', 'spanish'],\n",
       " ['es', 'spanish'],\n",
       " ['de', 'german'],\n",
       " ['de', 'german'],\n",
       " ['de', 'german'],\n",
       " ['de', 'german'],\n",
       " ['de', 'german'],\n",
       " ['de', 'german'],\n",
       " ['de', 'german'],\n",
       " ['de', 'german'],\n",
       " ['de', 'german'],\n",
       " ['de', 'german'],\n",
       " ['de', 'german'],\n",
       " ['de', 'german'],\n",
       " ['de', 'german'],\n",
       " ['de', 'german'],\n",
       " ['de', 'german'],\n",
       " ['de', 'german'],\n",
       " ['de', 'german'],\n",
       " ['de', 'german'],\n",
       " ['de', 'german'],\n",
       " ['de', 'german'],\n",
       " ['en', 'english'],\n",
       " ['en', 'english'],\n",
       " ['en', 'english'],\n",
       " ['en', 'english'],\n",
       " ['en', 'english'],\n",
       " ['en', 'english'],\n",
       " ['en', 'english'],\n",
       " ['en', 'english'],\n",
       " ['en', 'english'],\n",
       " ['en', 'english'],\n",
       " ['en', 'english'],\n",
       " ['en', 'english'],\n",
       " ['en', 'english'],\n",
       " ['en', 'english'],\n",
       " ['en', 'english'],\n",
       " ['en', 'english'],\n",
       " ['en', 'english'],\n",
       " ['en', 'english'],\n",
       " ['en', 'english'],\n",
       " ['en', 'english']]"
      ]
     },
     "execution_count": 29,
     "metadata": {},
     "output_type": "execute_result"
    }
   ],
   "source": [
    "#results of Google Translate for the full formal sample\n",
    "full_formal['googletrans'] =  full_formal['txt'].apply(lambda x: translator.detect(x))\n",
    "full_formal['googletrans'].values.tolist()"
   ]
  },
  {
   "cell_type": "code",
   "execution_count": 53,
   "metadata": {},
   "outputs": [],
   "source": [
    "#results of LangId.py for short sample\n",
    "short['Langid'] = short['review_body'].apply(lambda x: langid.classify(x))"
   ]
  },
  {
   "cell_type": "code",
   "execution_count": 58,
   "metadata": {},
   "outputs": [],
   "source": [
    "langid_list=['fr','nl','fr','nl','fr','en','fr','fr','fr','fr','fr','en','fr','pt','fr','fr','nl','fr','tr','fr','sl','lt','id','eo','sl', \n",
    "             'hu','es','fr','es','es','es','es','es','en','es','es','es','en','es','fr','de','de','de','de','de','de','de','de','de',\n",
    "             'de','de','de','de','de','sv','de','de','de','de','de','en','en','en','en','en','en','en','en','en','en','en', 'en', \n",
    "             'en','en','en', 'en', 'en','en', 'en', 'en']\n",
    "\n",
    "langid = pd.Series(langid_list)\n",
    "short['langid']=langid.values"
   ]
  },
  {
   "cell_type": "code",
   "execution_count": 6,
   "metadata": {},
   "outputs": [],
   "source": [
    "import pandas as pd\n",
    "short=pd.read_excel('short_text.xlsx')"
   ]
  },
  {
   "cell_type": "code",
   "execution_count": 7,
   "metadata": {},
   "outputs": [
    {
     "data": {
      "text/html": [
       "<div>\n",
       "<style scoped>\n",
       "    .dataframe tbody tr th:only-of-type {\n",
       "        vertical-align: middle;\n",
       "    }\n",
       "\n",
       "    .dataframe tbody tr th {\n",
       "        vertical-align: top;\n",
       "    }\n",
       "\n",
       "    .dataframe thead th {\n",
       "        text-align: right;\n",
       "    }\n",
       "</style>\n",
       "<table border=\"1\" class=\"dataframe\">\n",
       "  <thead>\n",
       "    <tr style=\"text-align: right;\">\n",
       "      <th></th>\n",
       "      <th>Unnamed: 0</th>\n",
       "      <th>Unnamed: 0.1</th>\n",
       "      <th>review_id</th>\n",
       "      <th>product_id</th>\n",
       "      <th>reviewer_id</th>\n",
       "      <th>stars</th>\n",
       "      <th>review_body</th>\n",
       "      <th>review_title</th>\n",
       "      <th>language</th>\n",
       "      <th>product_category</th>\n",
       "      <th>...</th>\n",
       "      <th>langid</th>\n",
       "      <th>svc_one_vs_rest</th>\n",
       "      <th>svm_ovo</th>\n",
       "      <th>randomforest</th>\n",
       "      <th>naive_bayes_1million</th>\n",
       "      <th>naive_bayes_100</th>\n",
       "      <th>naive_bayes_10</th>\n",
       "      <th>logistic_regression</th>\n",
       "      <th>naive_bayes_usual_preprocessing</th>\n",
       "      <th>logistic_regression_usual_preprocessing</th>\n",
       "    </tr>\n",
       "  </thead>\n",
       "  <tbody>\n",
       "    <tr>\n",
       "      <th>0</th>\n",
       "      <td>0</td>\n",
       "      <td>0</td>\n",
       "      <td>fr_0424335</td>\n",
       "      <td>product_fr_0297678</td>\n",
       "      <td>reviewer_fr_0961886</td>\n",
       "      <td>1</td>\n",
       "      <td>A déconseiller -</td>\n",
       "      <td>Brumisateur à pompe</td>\n",
       "      <td>fr</td>\n",
       "      <td>beauty</td>\n",
       "      <td>...</td>\n",
       "      <td>fr</td>\n",
       "      <td>en</td>\n",
       "      <td>es</td>\n",
       "      <td>es</td>\n",
       "      <td>fr</td>\n",
       "      <td>fr</td>\n",
       "      <td>de</td>\n",
       "      <td>es</td>\n",
       "      <td>de</td>\n",
       "      <td>de</td>\n",
       "    </tr>\n",
       "    <tr>\n",
       "      <th>1</th>\n",
       "      <td>1</td>\n",
       "      <td>1</td>\n",
       "      <td>fr_0452615</td>\n",
       "      <td>product_fr_0613288</td>\n",
       "      <td>reviewer_fr_0857499</td>\n",
       "      <td>1</td>\n",
       "      <td>Si vous voulez</td>\n",
       "      <td>Insatisfaisant</td>\n",
       "      <td>fr</td>\n",
       "      <td>baby_product</td>\n",
       "      <td>...</td>\n",
       "      <td>nl</td>\n",
       "      <td>fr</td>\n",
       "      <td>fr</td>\n",
       "      <td>fr</td>\n",
       "      <td>fr</td>\n",
       "      <td>fr</td>\n",
       "      <td>fr</td>\n",
       "      <td>fr</td>\n",
       "      <td>es</td>\n",
       "      <td>es</td>\n",
       "    </tr>\n",
       "    <tr>\n",
       "      <th>2</th>\n",
       "      <td>2</td>\n",
       "      <td>2</td>\n",
       "      <td>fr_0407673</td>\n",
       "      <td>product_fr_0571250</td>\n",
       "      <td>reviewer_fr_0383240</td>\n",
       "      <td>1</td>\n",
       "      <td>Écran de mauvaise</td>\n",
       "      <td>Ne recommande pas</td>\n",
       "      <td>fr</td>\n",
       "      <td>pc</td>\n",
       "      <td>...</td>\n",
       "      <td>fr</td>\n",
       "      <td>fr</td>\n",
       "      <td>fr</td>\n",
       "      <td>fr</td>\n",
       "      <td>fr</td>\n",
       "      <td>fr</td>\n",
       "      <td>fr</td>\n",
       "      <td>fr</td>\n",
       "      <td>fr</td>\n",
       "      <td>fr</td>\n",
       "    </tr>\n",
       "    <tr>\n",
       "      <th>3</th>\n",
       "      <td>3</td>\n",
       "      <td>3</td>\n",
       "      <td>fr_0579191</td>\n",
       "      <td>product_fr_0030168</td>\n",
       "      <td>reviewer_fr_0729693</td>\n",
       "      <td>1</td>\n",
       "      <td>Cet engin ne</td>\n",
       "      <td>A éviter!</td>\n",
       "      <td>fr</td>\n",
       "      <td>musical_instruments</td>\n",
       "      <td>...</td>\n",
       "      <td>nl</td>\n",
       "      <td>fr</td>\n",
       "      <td>fr</td>\n",
       "      <td>fr</td>\n",
       "      <td>fr</td>\n",
       "      <td>fr</td>\n",
       "      <td>fr</td>\n",
       "      <td>fr</td>\n",
       "      <td>fr</td>\n",
       "      <td>fr</td>\n",
       "    </tr>\n",
       "    <tr>\n",
       "      <th>4</th>\n",
       "      <td>4</td>\n",
       "      <td>4</td>\n",
       "      <td>fr_0931533</td>\n",
       "      <td>product_fr_0468261</td>\n",
       "      <td>reviewer_fr_0734066</td>\n",
       "      <td>1</td>\n",
       "      <td>Très beau produit</td>\n",
       "      <td>Déçue</td>\n",
       "      <td>fr</td>\n",
       "      <td>toy</td>\n",
       "      <td>...</td>\n",
       "      <td>fr</td>\n",
       "      <td>fr</td>\n",
       "      <td>fr</td>\n",
       "      <td>fr</td>\n",
       "      <td>fr</td>\n",
       "      <td>fr</td>\n",
       "      <td>fr</td>\n",
       "      <td>fr</td>\n",
       "      <td>fr</td>\n",
       "      <td>fr</td>\n",
       "    </tr>\n",
       "  </tbody>\n",
       "</table>\n",
       "<p>5 rows × 23 columns</p>\n",
       "</div>"
      ],
      "text/plain": [
       "   Unnamed: 0  Unnamed: 0.1   review_id          product_id  \\\n",
       "0           0             0  fr_0424335  product_fr_0297678   \n",
       "1           1             1  fr_0452615  product_fr_0613288   \n",
       "2           2             2  fr_0407673  product_fr_0571250   \n",
       "3           3             3  fr_0579191  product_fr_0030168   \n",
       "4           4             4  fr_0931533  product_fr_0468261   \n",
       "\n",
       "           reviewer_id  stars        review_body         review_title  \\\n",
       "0  reviewer_fr_0961886      1   A déconseiller -  Brumisateur à pompe   \n",
       "1  reviewer_fr_0857499      1     Si vous voulez       Insatisfaisant   \n",
       "2  reviewer_fr_0383240      1  Écran de mauvaise    Ne recommande pas   \n",
       "3  reviewer_fr_0729693      1       Cet engin ne            A éviter!   \n",
       "4  reviewer_fr_0734066      1  Très beau produit                Déçue   \n",
       "\n",
       "  language     product_category  ... langid svc_one_vs_rest svm_ovo  \\\n",
       "0       fr               beauty  ...     fr              en      es   \n",
       "1       fr         baby_product  ...     nl              fr      fr   \n",
       "2       fr                   pc  ...     fr              fr      fr   \n",
       "3       fr  musical_instruments  ...     nl              fr      fr   \n",
       "4       fr                  toy  ...     fr              fr      fr   \n",
       "\n",
       "  randomforest naive_bayes_1million naive_bayes_100 naive_bayes_10  \\\n",
       "0           es                   fr              fr             de   \n",
       "1           fr                   fr              fr             fr   \n",
       "2           fr                   fr              fr             fr   \n",
       "3           fr                   fr              fr             fr   \n",
       "4           fr                   fr              fr             fr   \n",
       "\n",
       "  logistic_regression naive_bayes_usual_preprocessing  \\\n",
       "0                  es                              de   \n",
       "1                  fr                              es   \n",
       "2                  fr                              fr   \n",
       "3                  fr                              fr   \n",
       "4                  fr                              fr   \n",
       "\n",
       "  logistic_regression_usual_preprocessing  \n",
       "0                                      de  \n",
       "1                                      es  \n",
       "2                                      fr  \n",
       "3                                      fr  \n",
       "4                                      fr  \n",
       "\n",
       "[5 rows x 23 columns]"
      ]
     },
     "execution_count": 7,
     "metadata": {},
     "output_type": "execute_result"
    }
   ],
   "source": [
    "short.head()"
   ]
  },
  {
   "cell_type": "code",
   "execution_count": 7,
   "metadata": {},
   "outputs": [],
   "source": [
    "#using the accuracy information on short text to create a horizontal bar graph \n",
    "import pandas as pd\n",
    "lst = ['Langdetect', 'detectlanguage',  'LangID.py', 'SVC_ovr', 'SVM_ovo', 'RandomForest', 'Naive_Bayes_1million', 'Naive_Bayes_100T','Naive_Bayes_10T', \"Logistic_regression\", 'Naive_Bayes_Reg', 'Logistic_Regression_Reg', 'Google_translate', \"Bidirectional LSTM\"]\n",
    "  \n",
    "# list of accuracies\n",
    "lst2 = [71.25, 88.75,  78.75, 95, 98.8, 97.5,100,100, 96.25, 98.8, 48.75, 46.25, 98.8,82.5 ]\n",
    "\n",
    "df_comparison = pd.DataFrame(list(zip(lst, lst2)),\n",
    "               columns =['Identifier', 'val'])\n",
    "df_comparison=df_comparison.sort_values('val')"
   ]
  },
  {
   "cell_type": "code",
   "execution_count": 8,
   "metadata": {},
   "outputs": [
    {
     "data": {
      "image/png": "[encoded data removed]",
      "text/plain": [
       "<Figure size 360x432 with 1 Axes>"
      ]
     },
     "metadata": {
      "needs_background": "light"
     },
     "output_type": "display_data"
    }
   ],
   "source": [
    "#fig = plt.figure(figsize = (20,16))\n",
    "import matplotlib.pyplot as plt\n",
    "plt.rcParams[\"figure.figsize\"] = (5,6)\n",
    "colors=['lightgrey','lightgrey','lightgrey','lightgrey','lightgrey','lightgrey','lightgrey','lightgrey','lightgrey','gray','gray','gray','gray','gray']\n",
    "ax = df_comparison.plot.barh(x='Identifier', y='val',color=colors,fontsize=12)\n",
    "ax.set_title('SHORT TEXT ACCURACY\\n', fontsize=25,  loc='left')\n",
    "y=df_comparison.val\n",
    "for index, value in enumerate(y):\n",
    "    plt.text(value, index, ' '+str(value)+'%', fontsize=12)\n",
    "#customizing x label\n",
    "ax.set_xlabel('Accuracy', fontsize=20, color='dimgrey')\n",
    "#customizing y label\n",
    "right_side = ax.spines[\"right\"]\n",
    "top_side = ax.spines[\"top\"]\n",
    "right_side.set_visible(False)\n",
    "top_side.set_visible(False)\n",
    "plt.yticks(fontsize=16, color='dimgrey')\n",
    "plt.xticks(fontsize=16, color='dimgrey')\n",
    "ax.set_ylabel('Identifiers', fontsize=20,color= 'dimgrey');\n",
    "ax.get_legend().remove()\n",
    "plt.show()\n"
   ]
  },
  {
   "cell_type": "code",
   "execution_count": 55,
   "metadata": {},
   "outputs": [],
   "source": [
    "#using the accuracy information on short formal text to create a horizontal bar graph \n",
    "lst = ['Naive_Bayes_1million', 'Naive_Bayes_100T', 'Google_translate', \"Bidirectional LSTM\"]\n",
    "  \n",
    "# list of accuracies\n",
    "lst2 = [98.75, 95, 96.25, 67.5]\n",
    "df_comparison = pd.DataFrame(list(zip(lst, lst2)),\n",
    "               columns =['Identifier', 'val'])\n",
    "df_comparison=df_comparison.sort_values('val')"
   ]
  },
  {
   "cell_type": "code",
   "execution_count": 56,
   "metadata": {},
   "outputs": [
    {
     "data": {
      "image/png": "[encoded data removed]",
      "text/plain": [
       "<Figure size 288x360 with 1 Axes>"
      ]
     },
     "metadata": {
      "needs_background": "light"
     },
     "output_type": "display_data"
    }
   ],
   "source": [
    "#fig = plt.figure(figsize = (20,16))\n",
    "plt.rcParams[\"figure.figsize\"] = (4,5)\n",
    "colors=['lightgrey','lightgrey','gray','gray']\n",
    "ax = df_comparison.plot.barh(x='Identifier', y='val',color=colors,fontsize=12)\n",
    "ax.set_title('SHORT FORMAL TEXT ACCURACY\\n', fontsize=20,  loc='left')\n",
    "y=df_comparison.val\n",
    "for index, value in enumerate(y):\n",
    "    plt.text(value, index, ' '+str(value)+'%', fontsize=12)\n",
    "#customizing x label\n",
    "ax.set_xlabel('Accuracy (%)', fontsize=20, color='dimgrey')\n",
    "#customizing y label\n",
    "right_side = ax.spines[\"right\"]\n",
    "top_side = ax.spines[\"top\"]\n",
    "right_side.set_visible(False)\n",
    "top_side.set_visible(False)\n",
    "plt.yticks(fontsize=16, color='dimgrey')\n",
    "plt.xticks(fontsize=16, color='dimgrey')\n",
    "ax.set_ylabel('Identifiers', fontsize=20,color= 'dimgrey');\n",
    "ax.get_legend().remove()\n",
    "plt.show()\n"
   ]
  },
  {
   "cell_type": "code",
   "execution_count": 50,
   "metadata": {},
   "outputs": [],
   "source": [
    "#using the accuracy information on full formal text to create a horizontal bar graph \n",
    "lst = ['Naive_Bayes_1million', 'Naive_Bayes_100T', 'Google_translate', \"Bidirectional LSTM\"]\n",
    "  \n",
    "# list of accuracies\n",
    "lst2 = [100, 100, 100, 87.5]\n",
    "  \n",
    "# Calling DataFrame constructor after zipping\n",
    "# both lists, with columns specified\n",
    "df_comparison = pd.DataFrame(list(zip(lst, lst2)),\n",
    "               columns =['Identifier', 'val'])\n",
    "df_comparison=df_comparison.sort_values('val')"
   ]
  },
  {
   "cell_type": "code",
   "execution_count": 53,
   "metadata": {},
   "outputs": [
    {
     "data": {
      "image/png": "[encoded data removed]",
      "text/plain": [
       "<Figure size 288x360 with 1 Axes>"
      ]
     },
     "metadata": {
      "needs_background": "light"
     },
     "output_type": "display_data"
    }
   ],
   "source": [
    "#fig = plt.figure(figsize = (20,16))\n",
    "plt.rcParams[\"figure.figsize\"] = (4,5)\n",
    "colors=['lightgrey','gray','gray','gray']\n",
    "ax = df_comparison.plot.barh(x='Identifier', y='val',color=colors,fontsize=12)\n",
    "ax.set_title('FORMAL TEXT FULL LENGTH ACCURACY\\n', fontsize=18,  loc='left')\n",
    "y=df_comparison.val\n",
    "for index, value in enumerate(y):\n",
    "    plt.text(value, index, ' '+str(value)+'%', fontsize=12)\n",
    "#customizing x label\n",
    "ax.set_xlabel('Accuracy (%)', fontsize=20, color='dimgrey')\n",
    "#customizing y label\n",
    "right_side = ax.spines[\"right\"]\n",
    "top_side = ax.spines[\"top\"]\n",
    "right_side.set_visible(False)\n",
    "top_side.set_visible(False)\n",
    "plt.yticks(fontsize=16, color='dimgrey')\n",
    "plt.xticks(fontsize=16, color='dimgrey')\n",
    "ax.set_ylabel('Identifiers', fontsize=20,color= 'dimgrey');\n",
    "ax.get_legend().remove()\n",
    "plt.show()\n"
   ]
  },
  {
   "cell_type": "code",
   "execution_count": 10,
   "metadata": {},
   "outputs": [
    {
     "data": {
      "image/png": "[encoded data removed]",
      "text/plain": [
       "<Figure size 504x432 with 1 Axes>"
      ]
     },
     "metadata": {
      "needs_background": "light"
     },
     "output_type": "display_data"
    }
   ],
   "source": [
    "#comparing results of Multinomial Naive Bayes models with the different number of features\n",
    "import matplotlib.pyplot as plt\n",
    "\n",
    "fig = plt.figure(figsize=(7,6))\n",
    "ax = fig.add_axes([0,0,1,1])\n",
    "maximum_featues = ['10,000', '100,000', '1,000,000']\n",
    "accuracy = [99.964,99.989,99.994]\n",
    "ax.bar(maximum_featues,accuracy, color='orange', width=0.4)\n",
    "plt.ylim(99.95,100)\n",
    "\n",
    "#customizing x label\n",
    "plt.xlabel('Maximum Features', fontsize=20, color='dimgrey')\n",
    "#customizing y label\n",
    "right_side = ax.spines[\"right\"]\n",
    "top_side = ax.spines[\"top\"]\n",
    "right_side.set_visible(False)\n",
    "top_side.set_visible(False)\n",
    "plt.yticks(fontsize=16, color='dimgrey')\n",
    "plt.xticks(fontsize=16, color='dimgrey')\n",
    "plt.ylabel('Accuracy (%)', fontsize=20,color= 'dimgrey');\n",
    "plt.xticks(maximum_featues)\n",
    "plt.title('COMPARISON OF MULTINOMIAL NAIVE BAYES MODELS\\n\\n', fontsize=18)\n",
    "plt.show()\n",
    "plt.show()"
   ]
  },
  {
   "cell_type": "code",
   "execution_count": null,
   "metadata": {},
   "outputs": [],
   "source": []
  }
 ],
 "metadata": {
  "kernelspec": {
   "display_name": "Python 3",
   "language": "python",
   "name": "python3"
  },
  "language_info": {
   "codemirror_mode": {
    "name": "ipython",
    "version": 3
   },
   "file_extension": ".py",
   "mimetype": "text/x-python",
   "name": "python",
   "nbconvert_exporter": "python",
   "pygments_lexer": "ipython3",
   "version": "3.7.6"
  }
 },
 "nbformat": 4,
 "nbformat_minor": 4
}
