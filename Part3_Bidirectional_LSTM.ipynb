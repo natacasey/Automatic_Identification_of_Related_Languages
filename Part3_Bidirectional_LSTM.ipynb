{
 "cells": [
  {
   "cell_type": "code",
   "execution_count": 11,
   "metadata": {},
   "outputs": [],
   "source": [
    "#loading the packages\n",
    "import pandas as pd\n",
    "import json\n",
    "import matplotlib.pyplot as plt\n",
    "import warnings\n",
    "warnings.filterwarnings('ignore')\n",
    "import spacy\n",
    "from collections import Counter\n",
    "import re\n",
    "import numpy as np\n",
    "from sklearn.linear_model import LogisticRegression\n",
    "from sklearn.feature_extraction.text import TfidfVectorizer\n",
    "from sklearn.model_selection import StratifiedKFold\n",
    "from sklearn.metrics import precision_score, recall_score, f1_score\n",
    "from sklearn.multiclass import OneVsRestClassifier\n",
    "from sklearn.svm import SVC\n",
    "import time\n",
    "from vaderSentiment.vaderSentiment import SentimentIntensityAnalyzer\n",
    "import pandas as pd\n",
    "import numpy as np\n",
    "from sklearn.linear_model import LogisticRegression\n",
    "from sklearn.feature_extraction.text import TfidfVectorizer\n",
    "from sklearn.model_selection import StratifiedKFold\n",
    "from sklearn.metrics import precision_score, recall_score, f1_score\n",
    "import warnings\n",
    "warnings.filterwarnings('ignore')\n",
    "from sklearn import svm\n",
    "from xgboost import XGBClassifier\n",
    "from keras import regularizers\n",
    "from keras.layers import Embedding\n",
    "from keras.layers import LSTM\n",
    "from keras.models import Sequential\n",
    "from keras.layers import Bidirectional\n",
    "from keras.layers import Flatten, Dense, Dropout,SpatialDropout1D, Activation\n",
    "from keras.regularizers import l2\n",
    "from sklearn.metrics import classification_report, confusion_matrix\n",
    "from sklearn.model_selection import train_test_split\n",
    "from keras.utils import np_utils\\\n",
    "from sklearn import preprocessing\n",
    "from sklearn.preprocessing import LabelEncoder\n",
    "import tensorflow as tf\n",
    "from tensorflow import keras\n",
    "from keras.preprocessing.text import Tokenizer \n",
    "from keras.preprocessing.sequence import pad_sequences\n",
    "from keras.utils import np_utils"
   ]
  },
  {
   "cell_type": "code",
   "execution_count": 2,
   "metadata": {},
   "outputs": [],
   "source": [
    "#loading the data preprocessed accounting for linguistic nuances\n",
    "common_df=pd.read_excel('common_df_clean.xlsx')"
   ]
  },
  {
   "cell_type": "code",
   "execution_count": 3,
   "metadata": {},
   "outputs": [
    {
     "data": {
      "text/html": [
       "<div>\n",
       "<style scoped>\n",
       "    .dataframe tbody tr th:only-of-type {\n",
       "        vertical-align: middle;\n",
       "    }\n",
       "\n",
       "    .dataframe tbody tr th {\n",
       "        vertical-align: top;\n",
       "    }\n",
       "\n",
       "    .dataframe thead th {\n",
       "        text-align: right;\n",
       "    }\n",
       "</style>\n",
       "<table border=\"1\" class=\"dataframe\">\n",
       "  <thead>\n",
       "    <tr style=\"text-align: right;\">\n",
       "      <th></th>\n",
       "      <th>Unnamed: 0</th>\n",
       "      <th>review_id</th>\n",
       "      <th>product_id</th>\n",
       "      <th>reviewer_id</th>\n",
       "      <th>stars</th>\n",
       "      <th>review_body</th>\n",
       "      <th>review_title</th>\n",
       "      <th>language</th>\n",
       "      <th>product_category</th>\n",
       "      <th>new</th>\n",
       "    </tr>\n",
       "  </thead>\n",
       "  <tbody>\n",
       "    <tr>\n",
       "      <th>0</th>\n",
       "      <td>0</td>\n",
       "      <td>fr_0497116</td>\n",
       "      <td>product_fr_0739436</td>\n",
       "      <td>reviewer_fr_0079605</td>\n",
       "      <td>1</td>\n",
       "      <td>le produit est noté comme livré depuis le  jui...</td>\n",
       "      <td>Article non reçu !</td>\n",
       "      <td>fr</td>\n",
       "      <td>home</td>\n",
       "      <td>produit est noté comme livré depuis   juillet...</td>\n",
       "    </tr>\n",
       "    <tr>\n",
       "      <th>1</th>\n",
       "      <td>1</td>\n",
       "      <td>fr_0014704</td>\n",
       "      <td>product_fr_0898711</td>\n",
       "      <td>reviewer_fr_0614903</td>\n",
       "      <td>1</td>\n",
       "      <td>pas terrible ce nai pas comme des faux cils na...</td>\n",
       "      <td>Rien ne vaut les vrais faux cils</td>\n",
       "      <td>fr</td>\n",
       "      <td>beauty</td>\n",
       "      <td>pas terrible ce nai pas comme  faux cils natur...</td>\n",
       "    </tr>\n",
       "    <tr>\n",
       "      <th>2</th>\n",
       "      <td>2</td>\n",
       "      <td>fr_0851295</td>\n",
       "      <td>product_fr_0101306</td>\n",
       "      <td>reviewer_fr_0851899</td>\n",
       "      <td>1</td>\n",
       "      <td>je nai jamais reçu le produit</td>\n",
       "      <td>Jamais reçu</td>\n",
       "      <td>fr</td>\n",
       "      <td>home</td>\n",
       "      <td>je nai jamais reçu  produit</td>\n",
       "    </tr>\n",
       "    <tr>\n",
       "      <th>3</th>\n",
       "      <td>3</td>\n",
       "      <td>fr_0148716</td>\n",
       "      <td>product_fr_0735028</td>\n",
       "      <td>reviewer_fr_0121344</td>\n",
       "      <td>1</td>\n",
       "      <td>appareil complètement inutile il peigne mais n...</td>\n",
       "      <td>Il ne coupe rien</td>\n",
       "      <td>fr</td>\n",
       "      <td>sports</td>\n",
       "      <td>appareil complètement inutile il peigne mais n...</td>\n",
       "    </tr>\n",
       "    <tr>\n",
       "      <th>4</th>\n",
       "      <td>4</td>\n",
       "      <td>fr_0689615</td>\n",
       "      <td>product_fr_0645938</td>\n",
       "      <td>reviewer_fr_0049041</td>\n",
       "      <td>1</td>\n",
       "      <td>à le bout de  utilisations seulement  la clé u...</td>\n",
       "      <td>Clé USB inutilisable</td>\n",
       "      <td>fr</td>\n",
       "      <td>pc</td>\n",
       "      <td>à  bout   utilisations seulement   clé usb res...</td>\n",
       "    </tr>\n",
       "  </tbody>\n",
       "</table>\n",
       "</div>"
      ],
      "text/plain": [
       "   Unnamed: 0   review_id          product_id          reviewer_id  stars  \\\n",
       "0           0  fr_0497116  product_fr_0739436  reviewer_fr_0079605      1   \n",
       "1           1  fr_0014704  product_fr_0898711  reviewer_fr_0614903      1   \n",
       "2           2  fr_0851295  product_fr_0101306  reviewer_fr_0851899      1   \n",
       "3           3  fr_0148716  product_fr_0735028  reviewer_fr_0121344      1   \n",
       "4           4  fr_0689615  product_fr_0645938  reviewer_fr_0049041      1   \n",
       "\n",
       "                                         review_body  \\\n",
       "0  le produit est noté comme livré depuis le  jui...   \n",
       "1  pas terrible ce nai pas comme des faux cils na...   \n",
       "2                      je nai jamais reçu le produit   \n",
       "3  appareil complètement inutile il peigne mais n...   \n",
       "4  à le bout de  utilisations seulement  la clé u...   \n",
       "\n",
       "                       review_title language product_category  \\\n",
       "0                Article non reçu !       fr             home   \n",
       "1  Rien ne vaut les vrais faux cils       fr           beauty   \n",
       "2                       Jamais reçu       fr             home   \n",
       "3                  Il ne coupe rien       fr           sports   \n",
       "4              Clé USB inutilisable       fr               pc   \n",
       "\n",
       "                                                 new  \n",
       "0   produit est noté comme livré depuis   juillet...  \n",
       "1  pas terrible ce nai pas comme  faux cils natur...  \n",
       "2                        je nai jamais reçu  produit  \n",
       "3  appareil complètement inutile il peigne mais n...  \n",
       "4  à  bout   utilisations seulement   clé usb res...  "
      ]
     },
     "execution_count": 3,
     "metadata": {},
     "output_type": "execute_result"
    }
   ],
   "source": [
    "common_df.head()"
   ]
  },
  {
   "cell_type": "code",
   "execution_count": 5,
   "metadata": {},
   "outputs": [],
   "source": [
    "#resetting the index for the data frame\n",
    "common_df.reset_index(drop=True, inplace=True)"
   ]
  },
  {
   "cell_type": "code",
   "execution_count": 126,
   "metadata": {},
   "outputs": [
    {
     "data": {
      "text/plain": [
       "array([0, 1, 2, 3])"
      ]
     },
     "execution_count": 126,
     "metadata": {},
     "output_type": "execute_result"
    }
   ],
   "source": [
    "#one-hot encoding the target variable\n",
    "label_encoder = preprocessing.LabelEncoder()\n",
    "labels = label_encoder.fit_transform(common_df.language.values)\n",
    "np.unique(labels)"
   ]
  },
  {
   "cell_type": "code",
   "execution_count": 127,
   "metadata": {},
   "outputs": [],
   "source": [
    "#splitting the data into test and train\n",
    "X_train, X_val_and_test, y_train, y_val_and_test = train_test_split(common_df.new.values, labels, test_size = 0.1,random_state=776)\n",
    "X_val, X_test, y_val, y_test = train_test_split(X_val_and_test,y_val_and_test, test_size = 0.5,random_state=777)"
   ]
  },
  {
   "cell_type": "code",
   "execution_count": 128,
   "metadata": {},
   "outputs": [],
   "source": [
    "#setting the maximum size and maximum length\n",
    "VOCABULARY_SIZE = 1000000\n",
    "MAX_LENGTH = 200"
   ]
  },
  {
   "cell_type": "code",
   "execution_count": 129,
   "metadata": {},
   "outputs": [],
   "source": [
    "#tokenizing\n",
    "tokenizer = Tokenizer(num_words=VOCABULARY_SIZE)\n",
    "tokenizer.fit_on_texts(list(X_train) + list(X_test)+ list(X_val))\n",
    "\n",
    "xtrain_sequence = tokenizer.texts_to_sequences(X_train)\n",
    "xtest_sequence = tokenizer.texts_to_sequences(X_test)\n",
    "xval_sequence = tokenizer.texts_to_sequences(X_val)"
   ]
  },
  {
   "cell_type": "code",
   "execution_count": 131,
   "metadata": {},
   "outputs": [],
   "source": [
    "#padding\n",
    "xtrain_padding = pad_sequences(xtrain_sequence, maxlen=MAX_LENGTH)\n",
    "xtest_padding = pad_sequences(xtest_sequence, maxlen=MAX_LENGTH)\n",
    "xval_padding = pad_sequences(xval_sequence, maxlen=MAX_LENGTH)\n",
    "#word_index = tokenizer.word_index"
   ]
  },
  {
   "cell_type": "code",
   "execution_count": 132,
   "metadata": {},
   "outputs": [],
   "source": [
    "#creating a matrix\n",
    "ytrain_encode = np_utils.to_categorical(y_train)\n",
    "ytest_encode = np_utils.to_categorical(y_test)\n",
    "yval_encode = np_utils.to_categorical(y_val)"
   ]
  },
  {
   "cell_type": "code",
   "execution_count": 133,
   "metadata": {},
   "outputs": [],
   "source": [
    "# creating abidirectional LSTM model\n",
    "model_st_m = Sequential()\n",
    "#embedding layer\n",
    "model_st_m.add(Embedding(1000000,8,input_length=MAX_LENGTH))\n",
    "model_st_m.add(Bidirectional(LSTM(100)))\n",
    "model_st_m.add(Dense(4))\n",
    "model_st_m.add(Activation('softmax'))\n",
    "model_st_m.compile(loss='categorical_crossentropy', optimizer='adam', metrics=['accuracy'])"
   ]
  },
  {
   "cell_type": "code",
   "execution_count": 134,
   "metadata": {},
   "outputs": [
    {
     "name": "stdout",
     "output_type": "stream",
     "text": [
      "Epoch 1/12\n",
      "185/185 [==============================] - 2607s 14s/step - loss: 0.6660 - accuracy: 0.8375 - val_loss: 0.1550 - val_accuracy: 0.9860\n",
      "Epoch 2/12\n",
      "185/185 [==============================] - 2400s 13s/step - loss: 0.0604 - accuracy: 0.9985 - val_loss: 0.0281 - val_accuracy: 0.9996\n",
      "Epoch 3/12\n",
      "185/185 [==============================] - 2391s 13s/step - loss: 0.0194 - accuracy: 0.9997 - val_loss: 0.0137 - val_accuracy: 0.9993\n",
      "Epoch 4/12\n",
      "185/185 [==============================] - 2385s 13s/step - loss: 0.0098 - accuracy: 0.9998 - val_loss: 0.0080 - val_accuracy: 0.9998\n",
      "Epoch 5/12\n",
      "185/185 [==============================] - 2393s 13s/step - loss: 0.0328 - accuracy: 0.9965 - val_loss: 0.0242 - val_accuracy: 0.9968\n",
      "Epoch 6/12\n",
      "185/185 [==============================] - 2394s 13s/step - loss: 0.0133 - accuracy: 0.9987 - val_loss: 0.0093 - val_accuracy: 0.9989\n",
      "Epoch 7/12\n",
      "185/185 [==============================] - 2394s 13s/step - loss: 0.0062 - accuracy: 0.9996 - val_loss: 0.0058 - val_accuracy: 0.9992\n",
      "Epoch 8/12\n",
      "185/185 [==============================] - 2397s 13s/step - loss: 0.0038 - accuracy: 0.9998 - val_loss: 0.0040 - val_accuracy: 0.9995\n",
      "Epoch 9/12\n",
      "185/185 [==============================] - 2387s 13s/step - loss: 0.0022 - accuracy: 0.9999 - val_loss: 0.0029 - val_accuracy: 0.9996\n",
      "Epoch 10/12\n",
      "185/185 [==============================] - 2390s 13s/step - loss: 0.0018 - accuracy: 0.9999 - val_loss: 0.0024 - val_accuracy: 0.9997\n",
      "Epoch 11/12\n",
      "185/185 [==============================] - 2390s 13s/step - loss: 0.0014 - accuracy: 0.9999 - val_loss: 0.0022 - val_accuracy: 0.9998\n",
      "Epoch 12/12\n",
      "185/185 [==============================] - 2398s 13s/step - loss: 0.0012 - accuracy: 0.9999 - val_loss: 0.0019 - val_accuracy: 0.9999\n"
     ]
    }
   ],
   "source": [
    "history_st_m = model_st_m.fit(xtrain_padding, y=ytrain_encode, batch_size=4000, epochs=12, verbose=1, validation_data=(xval_padding, yval_encode))\n"
   ]
  },
  {
   "cell_type": "code",
   "execution_count": 135,
   "metadata": {},
   "outputs": [
    {
     "name": "stdout",
     "output_type": "stream",
     "text": [
      "1282/1282 [==============================] - 277s 216ms/step - loss: 0.0022 - accuracy: 0.9998\n",
      "Test accuracy: 0.9997560977935791\n"
     ]
    }
   ],
   "source": [
    "#using test set to compare against validation set and see if any overfitting occurs.\n",
    "test_loss, test_acc = model_st_m.evaluate(xtest_padding, ytest_encode)\n",
    "print('Test accuracy:', test_acc)"
   ]
  },
  {
   "cell_type": "code",
   "execution_count": 136,
   "metadata": {},
   "outputs": [],
   "source": [
    "y_pred=model_st_m.predict(xtest_padding)\n",
    "y_pred =(y_pred>0.5)"
   ]
  },
  {
   "cell_type": "code",
   "execution_count": 137,
   "metadata": {},
   "outputs": [
    {
     "name": "stdout",
     "output_type": "stream",
     "text": [
      "              precision    recall  f1-score   support\n",
      "\n",
      "           0       1.00      1.00      1.00     10277\n",
      "           1       1.00      1.00      1.00     10262\n",
      "           2       1.00      1.00      1.00     10154\n",
      "           3       1.00      1.00      1.00     10303\n",
      "\n",
      "   micro avg       1.00      1.00      1.00     40996\n",
      "   macro avg       1.00      1.00      1.00     40996\n",
      "weighted avg       1.00      1.00      1.00     40996\n",
      " samples avg       1.00      1.00      1.00     40996\n",
      "\n"
     ]
    }
   ],
   "source": [
    "#classification report\n",
    "print(classification_report(ytest_encode, y_pred))"
   ]
  },
  {
   "cell_type": "code",
   "execution_count": 138,
   "metadata": {},
   "outputs": [],
   "source": [
    "training_loss = history_st_m.history['loss']\n",
    "test_loss = history_st_m.history['val_loss']"
   ]
  },
  {
   "cell_type": "code",
   "execution_count": 139,
   "metadata": {},
   "outputs": [
    {
     "data": {
      "image/png": "[encoded data removed]",
      "text/plain": [
       "<Figure size 432x288 with 1 Axes>"
      ]
     },
     "metadata": {
      "needs_background": "light"
     },
     "output_type": "display_data"
    }
   ],
   "source": [
    "import matplotlib.pyplot as plt\n",
    "#plotting the loss\n",
    "epoch_count = range(1,len(training_loss) +1)\n",
    "plt.plot(epoch_count, training_loss, 'r--')\n",
    "plt.plot(epoch_count, test_loss,'b-')\n",
    "plt.legend(['Training loss', 'Val loss'])\n",
    "plt.xlabel('epoch')\n",
    "plt.ylabel('Loss')\n",
    "plt.show();"
   ]
  },
  {
   "cell_type": "code",
   "execution_count": 140,
   "metadata": {},
   "outputs": [
    {
     "data": {
      "image/png": "[encoded data removed]",
      "text/plain": [
       "<Figure size 432x288 with 1 Axes>"
      ]
     },
     "metadata": {
      "needs_background": "light"
     },
     "output_type": "display_data"
    }
   ],
   "source": [
    "#plotting the accuracy\n",
    "def plot_metric(history, metric):\n",
    "    train_metrics = history.history[metric]\n",
    "    val_metrics = history.history['val_'+metric]\n",
    "    epochs = range(1, len(train_metrics) + 1)\n",
    "    plt.plot(epochs, train_metrics)\n",
    "    plt.plot(epochs, val_metrics)\n",
    "    plt.title('Training and validation '+ metric)\n",
    "    plt.xlabel(\"Epochs\")\n",
    "    plt.ylabel(metric)\n",
    "    plt.legend([\"train_\"+metric, 'val_'+metric])\n",
    "    plt.show()\n",
    "plot_metric(history_st_m, 'accuracy')"
   ]
  },
  {
   "cell_type": "code",
   "execution_count": 141,
   "metadata": {},
   "outputs": [
    {
     "data": {
      "text/plain": [
       "array(['de', 'de', 'fr', 'fr', 'fr', 'fr', 'fr', 'fr', 'fr', 'fr', 'fr',\n",
       "       'fr', 'fr', 'fr', 'fr', 'fr', 'fr', 'fr', 'fr', 'de', 'es', 'es',\n",
       "       'es', 'de', 'de', 'es', 'es', 'de', 'de', 'de', 'es', 'es', 'de',\n",
       "       'es', 'es', 'de', 'es', 'en', 'de', 'de', 'de', 'de', 'de', 'de',\n",
       "       'de', 'de', 'de', 'de', 'de', 'de', 'de', 'de', 'de', 'de', 'de',\n",
       "       'de', 'de', 'de', 'de', 'de', 'en', 'en', 'en', 'en', 'es', 'en',\n",
       "       'en', 'en', 'en', 'en', 'en', 'en', 'en', 'en', 'en', 'en', 'en',\n",
       "       'en', 'en', 'en'], dtype=object)"
      ]
     },
     "execution_count": 141,
     "metadata": {},
     "output_type": "execute_result"
    }
   ],
   "source": [
    "#presdictions for the 80 observations to compare aginst the other models performance on short data\n",
    "tokenizer.fit_on_texts(short.review_body)\n",
    "tokens_sequence = tokenizer.texts_to_sequences(short.review_body)\n",
    "tokens_padding = pad_sequences(tokens_sequence, maxlen=MAX_LENGTH)\n",
    "y_predict_new = (model_st_m.predict(tokens_padding)>0.5).astype('int32')\n",
    "#y_predict =(y_pred>0.5)\n",
    "y_predict_new=np.argmax(y_predict_new,1)\n",
    "label_encoder.inverse_transform(y_predict_new)\n",
    "#y_new=model_s.predict_classes(tokens_padding)"
   ]
  },
  {
   "cell_type": "code",
   "execution_count": 142,
   "metadata": {},
   "outputs": [
    {
     "data": {
      "text/plain": [
       "array(['de', 'fr', 'fr', 'de', 'de', 'fr', 'de', 'de', 'de', 'es', 'fr',\n",
       "       'fr', 'de', 'de', 'fr', 'fr', 'de', 'fr', 'fr', 'de', 'de', 'es',\n",
       "       'es', 'en', 'de', 'de', 'es', 'de', 'de', 'es', 'en', 'es', 'de',\n",
       "       'de', 'en', 'de', 'es', 'es', 'es', 'en', 'de', 'de', 'de', 'de',\n",
       "       'de', 'de', 'de', 'de', 'de', 'de', 'de', 'de', 'de', 'de', 'de',\n",
       "       'de', 'de', 'de', 'de', 'de', 'en', 'en', 'en', 'en', 'en', 'fr',\n",
       "       'en', 'de', 'en', 'en', 'en', 'de', 'en', 'de', 'en', 'en', 'en',\n",
       "       'en', 'en', 'en'], dtype=object)"
      ]
     },
     "execution_count": 142,
     "metadata": {},
     "output_type": "execute_result"
    }
   ],
   "source": [
    "#presdictions for the 80 observations to compare aginst the other models performance on short formal data\n",
    "tokenizer.fit_on_texts(formal.txt)\n",
    "tokens_sequence = tokenizer.texts_to_sequences(formal.txt)\n",
    "tokens_padding = pad_sequences(tokens_sequence, maxlen=MAX_LENGTH)\n",
    "y_predict_new = (model_st_m.predict(tokens_padding)>0.5).astype('int32')\n",
    "#y_predict =(y_pred>0.5)\n",
    "y_predict_new=np.argmax(y_predict_new,1)\n",
    "label_encoder.inverse_transform(y_predict_new)\n",
    "#y_new=model_s.predict_classes(tokens_padding)"
   ]
  },
  {
   "cell_type": "code",
   "execution_count": 143,
   "metadata": {},
   "outputs": [
    {
     "data": {
      "text/plain": [
       "array(['de', 'fr', 'fr', 'fr', 'en', 'fr', 'de', 'fr', 'fr', 'fr', 'fr',\n",
       "       'fr', 'fr', 'fr', 'de', 'fr', 'fr', 'fr', 'fr', 'fr', 'de', 'de',\n",
       "       'es', 'es', 'es', 'es', 'es', 'es', 'de', 'es', 'es', 'es', 'es',\n",
       "       'es', 'es', 'es', 'es', 'fr', 'es', 'es', 'de', 'de', 'de', 'de',\n",
       "       'de', 'de', 'de', 'de', 'es', 'fr', 'de', 'de', 'de', 'de', 'de',\n",
       "       'de', 'de', 'de', 'de', 'de', 'en', 'en', 'en', 'en', 'en', 'en',\n",
       "       'en', 'en', 'en', 'en', 'en', 'en', 'en', 'en', 'en', 'en', 'en',\n",
       "       'en', 'en', 'en'], dtype=object)"
      ]
     },
     "execution_count": 143,
     "metadata": {},
     "output_type": "execute_result"
    }
   ],
   "source": [
    "#presdictions for the 80 observations to compare aginst the other models performance on full formal data\n",
    "tokenizer.fit_on_texts(formal_full.txt)\n",
    "tokens_sequence = tokenizer.texts_to_sequences(formal_full.txt)\n",
    "tokens_padding = pad_sequences(tokens_sequence, maxlen=MAX_LENGTH)\n",
    "y_predict_new = (model_st_m.predict(tokens_padding)>0.5).astype('int32')\n",
    "#y_predict =(y_pred>0.5)\n",
    "y_predict_new=np.argmax(y_predict_new,1)\n",
    "label_encoder.inverse_transform(y_predict_new)\n",
    "#y_new=model_s.predict_classes(tokens_padding)"
   ]
  },
  {
   "cell_type": "code",
   "execution_count": 144,
   "metadata": {},
   "outputs": [
    {
     "name": "stdout",
     "output_type": "stream",
     "text": [
      "WARNING:tensorflow:From C:\\Users\\natac\\anaconda3\\lib\\site-packages\\tensorflow\\python\\training\\tracking\\tracking.py:111: Model.state_updates (from tensorflow.python.keras.engine.training) is deprecated and will be removed in a future version.\n",
      "Instructions for updating:\n",
      "This property should not be used in TensorFlow 2.0, as updates are applied automatically.\n",
      "WARNING:tensorflow:From C:\\Users\\natac\\anaconda3\\lib\\site-packages\\tensorflow\\python\\training\\tracking\\tracking.py:111: Layer.updates (from tensorflow.python.keras.engine.base_layer) is deprecated and will be removed in a future version.\n",
      "Instructions for updating:\n",
      "This property should not be used in TensorFlow 2.0, as updates are applied automatically.\n",
      "INFO:tensorflow:Assets written to: model.mil\\assets\n"
     ]
    }
   ],
   "source": [
    "#saving the model\n",
    "from numpy import loadtxt\n",
    "model_st_m.save(\"model.mil\")"
   ]
  }
 ],
 "metadata": {
  "kernelspec": {
   "display_name": "Python 3",
   "language": "python",
   "name": "python3"
  },
  "language_info": {
   "codemirror_mode": {
    "name": "ipython",
    "version": 3
   },
   "file_extension": ".py",
   "mimetype": "text/x-python",
   "name": "python",
   "nbconvert_exporter": "python",
   "pygments_lexer": "ipython3",
   "version": "3.7.6"
  }
 },
 "nbformat": 4,
 "nbformat_minor": 4
}
